{
 "cells": [
  {
   "cell_type": "markdown",
   "id": "b3f821b5",
   "metadata": {},
   "source": [
    "Importovanje biblioteka"
   ]
  },
  {
   "cell_type": "code",
   "execution_count": 1,
   "id": "7216867c",
   "metadata": {},
   "outputs": [],
   "source": [
    "import pandas \n",
    "import requests\n",
    "import urllib.parse\n",
    "import numpy as np\n",
    "from sklearn.model_selection import train_test_split\n",
    "from sklearn.ensemble import RandomForestClassifier\n",
    "from sklearn.metrics import accuracy_score\n",
    "from sklearn.linear_model import LinearRegression\n",
    "from sklearn.metrics import mean_squared_error\n",
    "from sklearn.model_selection import train_test_split\n",
    "from imblearn.over_sampling import SMOTE\n",
    "from sklearn.metrics import precision_score, recall_score, f1_score\n",
    "from collections import Counter\n",
    "from imblearn.under_sampling import RandomUnderSampler\n",
    "from bs4 import BeautifulSoup\n",
    "from fuzzywuzzy import fuzz\n",
    "from fuzzywuzzy import process"
   ]
  },
  {
   "cell_type": "markdown",
   "id": "632b7868",
   "metadata": {},
   "source": [
    "Ucitavanje svih potrebnih fajlova"
   ]
  },
  {
   "cell_type": "code",
   "execution_count": 2,
   "id": "26e048ac",
   "metadata": {},
   "outputs": [],
   "source": [
    "dfTarget = pandas.read_csv('dataset/objects.csv',low_memory=False) # fajl u kom se nalazi ciljno obiljezje\n",
    "dfDegrees=pandas.read_csv('dataset/degrees.csv',low_memory=False) # fajl u kome se nalaze podaci o diplomama zaposlenih \n",
    "dfRelationship=pandas.read_csv('dataset/relationships.csv',low_memory=False) # fajl koji predstavlja medju tabelu koja povezuje zaposlene sa startapima\n",
    "dfOffices=pandas.read_csv('dataset/offices.csv',low_memory=False)\n",
    "print('Reading csv files is done...')"
   ]
  },
  {
   "cell_type": "code",
   "execution_count": 3,
   "id": "1634cc63",
   "metadata": {},
   "outputs": [],
   "source": [
    "dfRelationship = dfRelationship.drop(columns=['id','relationship_id','start_at','end_at','is_past','sequence','created_at','updated_at'])"
   ]
  },
  {
   "cell_type": "code",
   "execution_count": 4,
   "id": "ddeaf337",
   "metadata": {},
   "outputs": [],
   "source": [
    "dfDegrees = dfDegrees.drop(columns=['id','graduated_at','created_at','updated_at'])"
   ]
  },
  {
   "cell_type": "code",
   "execution_count": 5,
   "id": "bc217ed6",
   "metadata": {},
   "outputs": [],
   "source": [
    "dfRelationship = dfRelationship.merge(dfDegrees,\n",
    "                   on = \"person_object_id\", \n",
    "                   how = 'right')"
   ]
  },
  {
   "cell_type": "code",
   "execution_count": 6,
   "id": "7f08dddd",
   "metadata": {},
   "outputs": [],
   "source": [
    "\n",
    "dfRelationship.relationship_object_id = dfRelationship.relationship_object_id.fillna('')\n",
    "dfRelationship.title = dfRelationship.title.fillna('')\n",
    "dfRelationship.drop(dfRelationship[(dfRelationship.relationship_object_id)==''].index,inplace=True)"
   ]
  },
  {
   "cell_type": "code",
   "execution_count": 7,
   "id": "c28f0724",
   "metadata": {},
   "outputs": [],
   "source": [
    "dfRelationship.drop(dfRelationship[~(dfRelationship[\"title\"].str.contains('CEO') | dfRelationship[\"title\"].str.contains('President') | (dfRelationship[\"title\"].str.contains('Founder')))].index,inplace=True)"
   ]
  },
  {
   "cell_type": "code",
   "execution_count": 8,
   "id": "785a89e6",
   "metadata": {},
   "outputs": [],
   "source": [
    "dfRelationship = dfRelationship.drop_duplicates(subset=['relationship_object_id'])"
   ]
  },
  {
   "cell_type": "code",
   "execution_count": 9,
   "id": "2a63157f",
   "metadata": {},
   "outputs": [],
   "source": [
    "dfRelationship.institution = dfRelationship.institution.fillna('')\n",
    "dfRelationship.drop(dfRelationship[(dfRelationship.institution)==''].index,inplace=True)"
   ]
  },
  {
   "cell_type": "code",
   "execution_count": 10,
   "id": "bf60540a",
   "metadata": {},
   "outputs": [],
   "source": [
    "dfRelationship.rename(columns={'relationship_object_id': 'object_id'}, inplace=True)"
   ]
  },
  {
   "cell_type": "code",
   "execution_count": 11,
   "id": "2d5334ac",
   "metadata": {},
   "outputs": [],
   "source": [
    "dfRelationship"
   ]
  },
  {
   "cell_type": "markdown",
   "id": "65a4f42a",
   "metadata": {},
   "source": [
    "# Scraping sajta \"World University Rankings 2022-23\""
   ]
  },
  {
   "cell_type": "code",
   "execution_count": 12,
   "id": "9aac5e94",
   "metadata": {},
   "outputs": [],
   "source": [
    "session = requests.Session()\n",
    "session.headers.update({\n",
    "   'User-Agent': 'Mozilla/5.0 (Windows NT 10.0;Win64) AppleWebkit/537.36 (KHTML, like Gecko) Chrome/89.0.4389.82 '\n",
    "                 'Safari/537.36'})\n",
    "\n",
    "url = 'https://cwur.org/2022-23.php'\n",
    "page = session.get(url)\n",
    "soup = BeautifulSoup(page.content, 'html.parser')\n",
    "\n",
    "thead = soup.find('thead')\n",
    "headings = thead.find_all('th')\n",
    "attributes = [heading.text for heading in headings]\n",
    "\n",
    "tbody = soup.find('tbody')\n",
    "rows = tbody.find_all('tr')\n",
    "\n",
    "data = []\n",
    "for row in rows:\n",
    "    cells = row.find_all('td')\n",
    "    values = [cell.text for cell in cells]\n",
    "    row_data = dict(zip(attributes, values))\n",
    "    data.append(row_data)\n",
    "\n",
    "dfUnivercity = pandas.DataFrame(data)\n",
    "dfUnivercity.to_csv('cwur_universities.csv', index=True)\n",
    "dfUnivercity"
   ]
  },
  {
   "cell_type": "markdown",
   "id": "7fbeb939",
   "metadata": {},
   "source": [
    "## Spajanje dataframe-ova"
   ]
  },
  {
   "cell_type": "code",
   "execution_count": 13,
   "id": "4daabcea",
   "metadata": {},
   "outputs": [],
   "source": [
    "# def fuzzy_merge(df_1, df_2, key1, key2, threshold=90, limit=2):\n",
    "#     \"\"\"\n",
    "#     :param df_1: the left table to join\n",
    "#     :param df_2: the right table to join\n",
    "#     :param key1: key column of the left table\n",
    "#     :param key2: key column of the right table\n",
    "#     :param threshold: how close the matches should be to return a match, based on Levenshtein distance\n",
    "#     :param limit: the amount of matches that will get returned, these are sorted high to low\n",
    "#     :return: dataframe with boths keys and matches\n",
    "#     \"\"\"\n",
    "#     s = df_2[key2].tolist()\n",
    "    \n",
    "#     m = df_1[key1].apply(lambda x: process.extract(x, s, limit=limit))    \n",
    "#     df_1['matches'] = m\n",
    "    \n",
    "#     m2 = df_1['matches'].apply(lambda x: ', '.join([i[0] for i in x if i[1] >= threshold]))\n",
    "#     df_1['matches'] = m2\n",
    "    \n",
    "#     return df_1"
   ]
  },
  {
   "cell_type": "code",
   "execution_count": 14,
   "id": "9d8994e0",
   "metadata": {},
   "outputs": [],
   "source": [
    "dfUnivercity=dfUnivercity.drop(columns=['World Rank', \n",
    "                                        'Location', \n",
    "                                        'National Rank', \n",
    "                                        'Education Rank', \n",
    "                                        'Employability Rank', \n",
    "                                        'Faculty Rank',\n",
    "                                        'Research Rank'])"
   ]
  },
  {
   "cell_type": "code",
   "execution_count": 15,
   "id": "aa391ab9",
   "metadata": {},
   "outputs": [],
   "source": [
    "dfUnivercity"
   ]
  },
  {
   "cell_type": "markdown",
   "id": "94827502",
   "metadata": {},
   "source": [
    "Izbacivanje nepotrebnih kolona iz dfTarget dataframe-a"
   ]
  },
  {
   "cell_type": "code",
   "execution_count": 16,
   "id": "46220b83",
   "metadata": {},
   "outputs": [],
   "source": [
    "dfTarget=dfTarget.drop(columns=['entity_id','parent_id','permalink','closed_at','created_by',\n",
    "                        'created_at','updated_at','normalized_name','domain',\n",
    "                        'logo_url','logo_width','logo_height','short_description',\n",
    "                        'description','overview','tag_list','relationships',\n",
    "                        'country_code','state_code','region',\n",
    "                        'relationships','created_by','created_at','updated_at'])"
   ]
  },
  {
   "cell_type": "code",
   "execution_count": 17,
   "id": "b1bcd53f",
   "metadata": {},
   "outputs": [],
   "source": [
    "dfOffices=dfOffices.drop(columns=['id','office_id','description','address1','address2','zip_code','created_at','updated_at'])"
   ]
  },
  {
   "cell_type": "code",
   "execution_count": 18,
   "id": "0ceb4ffb",
   "metadata": {},
   "outputs": [],
   "source": [
    "dfTarget"
   ]
  },
  {
   "cell_type": "code",
   "execution_count": 19,
   "id": "62bfe647",
   "metadata": {},
   "outputs": [],
   "source": [
    "\n",
    "dfTarget = dfTarget.merge(dfRelationship,\n",
    "                   on = \"object_id\", \n",
    "                   how = 'right')\n",
    "# dfTarget.drop_duplicates(['object_id'], keep=\"first\", inplace=True) # izbacivanje onih koji imaju vise lokacija\n"
   ]
  },
  {
   "cell_type": "markdown",
   "id": "dfc644f0",
   "metadata": {},
   "source": [
    "Izbacivanje nepotrebnih redova i kolona iz dfTarget"
   ]
  },
  {
   "cell_type": "code",
   "execution_count": 20,
   "id": "900c015b",
   "metadata": {},
   "outputs": [],
   "source": [
    "#dfTarget\n",
    "dfTarget[(dfTarget['status']=='closed')]"
   ]
  },
  {
   "cell_type": "code",
   "execution_count": 21,
   "id": "b9a68074",
   "metadata": {},
   "outputs": [],
   "source": [
    "#izbacivanje nepotrebnih redova\n",
    "dfTarget.drop(dfTarget[(dfTarget.status == 'alpha') | \n",
    "           (dfTarget.status=='ipo') | \n",
    "           (dfTarget.status=='live') | \n",
    "           (dfTarget.status=='beta') | \n",
    "           (dfTarget.status=='private') | \n",
    "           (dfTarget.status=='development')].index, inplace=True)\n",
    "dfTarget.drop(dfTarget[(dfTarget.entity_type)=='Person'].index,inplace=True)\n"
   ]
  },
  {
   "cell_type": "code",
   "execution_count": 22,
   "id": "598ef485",
   "metadata": {},
   "outputs": [],
   "source": [
    "dfTarget.category_code=dfTarget.category_code.fillna('')\n",
    "dfTarget.drop(dfTarget[(dfTarget.entity_type)=='Person'].index,inplace=True) #izbaci startupe za koje se ne zna iz koje drzave dolaze"
   ]
  },
  {
   "cell_type": "code",
   "execution_count": 23,
   "id": "800ee0f8",
   "metadata": {},
   "outputs": [],
   "source": [
    "dfTarget = dfTarget.merge(dfOffices, \n",
    "                   on = \"object_id\", \n",
    "                   how = 'right')\n",
    "dfTarget"
   ]
  },
  {
   "cell_type": "markdown",
   "id": "84017f52",
   "metadata": {},
   "source": [
    "Dodavanje kategorickih obiljezja za twiter i web_page"
   ]
  },
  {
   "cell_type": "code",
   "execution_count": 24,
   "id": "fdef63da",
   "metadata": {},
   "outputs": [],
   "source": [
    "dfTarget['twiter_categorical']=1\n",
    "dfTarget['web_page_categorical']=1\n",
    "dfTarget.twitter_username = dfTarget.twitter_username.fillna('')\n",
    "dfTarget.homepage_url = dfTarget.homepage_url.fillna('')\n",
    "dfTarget.loc[(dfTarget['twitter_username'] ==''), 'twiter_categorical'] = 0\n",
    "dfTarget.loc[(dfTarget['homepage_url'] ==''), 'web_page_categorical'] = 0\n",
    "dfTarget=dfTarget.drop(columns=['twitter_username','homepage_url'])\n",
    "dfTarget.loc[(dfTarget['category_code'] ==''), 'category_code'] = 'other'"
   ]
  },
  {
   "cell_type": "code",
   "execution_count": 25,
   "id": "5a0045ca",
   "metadata": {
    "scrolled": true
   },
   "outputs": [],
   "source": [
    "dfTarget.category_code=dfTarget.category_code.fillna('')\n",
    "dfTarget.entity_type=dfTarget.entity_type.fillna('')\n",
    "dfTarget.name=dfTarget.name.fillna('')\n",
    "dfTarget.drop(dfTarget[(dfTarget.entity_type)==''].index,inplace=True)\n",
    "print(len(dfTarget[(dfTarget['status']=='closed')]))\n",
    "print(len(dfTarget))\n",
    "dfTarget\n",
    "print(dfTarget.columns)\n",
    "\n",
    "#dfTarget.region=dfTarget.region.fillna('') # SD: ne postoji obelezje region\n",
    "#dfTarget.to_csv('dfTarget.csv')"
   ]
  },
  {
   "cell_type": "code",
   "execution_count": 26,
   "id": "aa856972",
   "metadata": {},
   "outputs": [],
   "source": [
    "\n",
    "# address = 'New York'\n",
    "# url = 'https://nominatim.openstreetmap.org/search/' + urllib.parse.quote(address) +'?format=json'\n",
    "\n",
    "# response = requests.get(url).json()\n",
    "# print(response[0][\"lat\"])\n",
    "# print(response[0][\"lon\"])\n",
    "# print(dfTarget.columns)\n",
    "\n",
    "# for index, row in dfOffices.iterrows():\n",
    "#     if row['latitude']==0 and row['longitude']==0:\n",
    "#         address=row['city']\n",
    "#         url = 'https://nominatim.openstreetmap.org/search/' + urllib.parse.quote(address) +'?format=json'\n",
    "#         response = requests.get(url).json()\n",
    "#         if (len(response)!=0):\n",
    "#             print(response[0][\"lat\"])\n",
    "#             print(response[0][\"lon\"])\n",
    "#             row['latitude']=response[0][\"lat\"]\n",
    "#             row['longitude']=response[0][\"lon\"]\n"
   ]
  },
  {
   "cell_type": "code",
   "execution_count": 27,
   "id": "f5d7b51a",
   "metadata": {
    "scrolled": true
   },
   "outputs": [],
   "source": [
    "dfTarget.founded_at=dfTarget.founded_at.fillna('')\n",
    "dfTarget=dfTarget.drop(columns=['subject','degree_type','person_object_id'])\n",
    "dfTarget"
   ]
  },
  {
   "cell_type": "markdown",
   "id": "b877952e",
   "metadata": {},
   "source": []
  },
  {
   "cell_type": "code",
   "execution_count": 28,
   "id": "4a956464",
   "metadata": {},
   "outputs": [],
   "source": [
    "dfTarget.to_csv('result1.csv', index=True)"
   ]
  },
  {
   "cell_type": "markdown",
   "id": "1e28b38b",
   "metadata": {},
   "source": [
    "### TODO: uraditi grupisanje po oblastima kategorije\n",
    "IT-web,software,mobile,network_hosting,search,automotive,security\n",
    "Advertising-advertising,news,ecomerce,social,public_relations\n",
    "Medicine-biotech, hospitality, health, medical\n",
    "Hardware-hardware,nanotech,manufacturing,semiconductor,\n",
    "Nonprofit\n",
    "Entertainment-games_video,,music,photo_video\n",
    "Green tehcnology- cleantech\n",
    "Consulting-government,finance,consulting,analytics,enterprise\n",
    "Other-local,other,transportation,travel,pets,messaging,real_estate\n",
    "Education-education,sports\n",
    "Fashion-fashion,design"
   ]
  },
  {
   "cell_type": "code",
   "execution_count": 29,
   "id": "4122cc37",
   "metadata": {},
   "outputs": [],
   "source": [
    "# print(dfTarget[\"entity_type\"].unique())\n",
    "categories_one_hot=pandas.get_dummies(dfTarget.category_code)\n",
    "dfTarget = pandas.concat([dfTarget, categories_one_hot], axis=1)\n"
   ]
  },
  {
   "cell_type": "code",
   "execution_count": 30,
   "id": "7b4a73bc",
   "metadata": {},
   "outputs": [],
   "source": [
    "entity_type_one_hot=pandas.get_dummies(dfTarget.entity_type)\n",
    "dfTarget = pandas.concat([dfTarget, entity_type_one_hot], axis=1)"
   ]
  },
  {
   "cell_type": "code",
   "execution_count": 31,
   "id": "083a41c3",
   "metadata": {},
   "outputs": [],
   "source": [
    "dfTarget=dfTarget.drop(columns=['category_code', 'entity_type', 'name', 'city_x', 'title', 'city_y', 'state_code', 'country_code', 'object_id',\n",
    "                               'founded_at', 'first_investment_at', 'last_investment_at', 'first_funding_at', 'last_funding_at', 'first_milestone_at', 'last_milestone_at', 'region' ])"
   ]
  },
  {
   "cell_type": "code",
   "execution_count": 32,
   "id": "9ac3cef4",
   "metadata": {
    "scrolled": false
   },
   "outputs": [],
   "source": [
    "dfTarget"
   ]
  },
  {
   "cell_type": "code",
   "execution_count": 33,
   "id": "4535b9ab",
   "metadata": {},
   "outputs": [],
   "source": [
    "#merged_df1 = fuzzy_merge(dfTarget, dfUnivercity, 'institution', 'Institution', threshold=80, limit=1)\n",
    "dfUnivercity = dfUnivercity.rename(columns={'Institution': 'institution'})"
   ]
  },
  {
   "cell_type": "code",
   "execution_count": 34,
   "id": "cd04b040",
   "metadata": {},
   "outputs": [],
   "source": [
    "# merged_df = pandas.merge(dfTarget, dfUnivercity, on='institution', how='left')"
   ]
  },
  {
   "cell_type": "code",
   "execution_count": 35,
   "id": "9e0bc1cd",
   "metadata": {},
   "outputs": [],
   "source": [
    "# dfTarget"
   ]
  },
  {
   "cell_type": "code",
   "execution_count": 36,
   "id": "2e7aa691",
   "metadata": {},
   "outputs": [],
   "source": [
    "def fuzzy_merge1(df_1, df_2, key1, key2, threshold=90, limit=2):\n",
    "    \n",
    "    #Funkcija za spajanje dva DataFrame-a po delimično poklapajućim vrednostima ključa.\n",
    "    #:param df_1: Pandas DataFrame 1\n",
    "    #:param df_2: Pandas DataFrame 2\n",
    "    #:param key1: Ključni naziv kolone u DataFrame-u 1\n",
    "    #param key2: Ključni naziv kolone u DataFrame-u 2\n",
    "    #param threshold: Prag ocene sličnosti koji se koristi za uspoređivanje vrednosti ključeva (podrazumevana vrednost: 90)\n",
    "    #param limit: Maksimalni broj podudaranja koja se vraćaju za svaku vrednost ključa iz DataFrame-a 1 (podrazumevana vrednost: 2)\n",
    "    #return: Pandas DataFrame spojen po delimično poklapajućim vrednostima ključeva\n",
    "\n",
    "    s = df_2[key2].tolist()\n",
    "\n",
    "    m = df_1[key1].apply(lambda x: process.extract(x, s, limit=limit))\n",
    "#     df_1.loc[:, 'matches'] = m\n",
    "    print(m)\n",
    "    \n",
    "    m2 = m.apply(lambda x: ', '.join([i[0] for i in x if i[1] >= threshold]))\n",
    "    print(m2)\n",
    "\n",
    "    #df_1.loc[:, 'matches'] = m2\n",
    "\n",
    "    return m2#df_1.merge(df_2, left_on=key1, right_on=key2)"
   ]
  },
  {
   "cell_type": "code",
   "execution_count": 37,
   "id": "f7f3922d",
   "metadata": {
    "scrolled": false
   },
   "outputs": [],
   "source": [
    "#merged_df_2 = fuzzy_merge1(dfTarget, dfUnivercity, 'institution', 'institution', 90, 1)\n"
   ]
  },
  {
   "cell_type": "code",
   "execution_count": 38,
   "id": "b067a44b",
   "metadata": {},
   "outputs": [],
   "source": [
    "dfTarget"
   ]
  },
  {
   "cell_type": "code",
   "execution_count": 39,
   "id": "2ca6577a",
   "metadata": {},
   "outputs": [],
   "source": [
    "dfTarget['status'].value_counts()"
   ]
  },
  {
   "cell_type": "code",
   "execution_count": 40,
   "id": "2bdc9cde",
   "metadata": {},
   "outputs": [],
   "source": [
    "y = dfTarget['status']\n",
    "y = dfTarget['status'].map({'operating': 1, 'acquired': 1, 'closed': 0})\n",
    "X = dfTarget.drop(columns=['status'])\n",
    "#TODO SD: delete\n",
    "X = X.drop(columns=['institution'])"
   ]
  },
  {
   "cell_type": "markdown",
   "id": "159ea017",
   "metadata": {},
   "source": [
    "## Undersampling"
   ]
  },
  {
   "cell_type": "code",
   "execution_count": 41,
   "id": "5d480da6",
   "metadata": {},
   "outputs": [],
   "source": [
    "def undersamping(X, y):\n",
    "    print(\"Klasna raspodela pre undersamplinga:\", Counter(y))\n",
    "    rus = RandomUnderSampler(random_state=42)\n",
    "\n",
    "    X_res, y_res = rus.fit_resample(X, y)\n",
    "\n",
    "    print(\"Klasna raspodela posle undersamplinga:\", Counter(y_res))\n",
    "    return X_res, y_res"
   ]
  },
  {
   "cell_type": "markdown",
   "id": "a71d30a5",
   "metadata": {},
   "source": [
    "## Oversampling "
   ]
  },
  {
   "cell_type": "code",
   "execution_count": 42,
   "id": "d92772ca",
   "metadata": {},
   "outputs": [],
   "source": [
    "def oversampling(X, y):\n",
    "    # Primena SMOTE algoritma za oversampling podataka\n",
    "    smote = SMOTE(random_state=42)\n",
    "    X_res, y_res = smote.fit_resample(X, y)\n",
    "\n",
    "    # Prikaz balansiranih podataka\n",
    "    balanced_df = pandas.concat([pandas.DataFrame(X_res), pandas.DataFrame(y_res, columns=['target'])], axis=1)\n",
    "    print(balanced_df['target'].value_counts())\n",
    "    return X_res, y_res"
   ]
  },
  {
   "cell_type": "markdown",
   "id": "d4d21d71",
   "metadata": {},
   "source": [
    "## Podela dataseta na test, train i validacioni - 80:10:10"
   ]
  },
  {
   "cell_type": "code",
   "execution_count": 43,
   "id": "c7c6ef26",
   "metadata": {},
   "outputs": [],
   "source": [
    "def dataset_partitioning(X_balanced, y_balanced):\n",
    "    X_train, X_test, y_train, y_test = train_test_split(X_balanced, y_balanced, test_size=0.111, random_state=42, stratify=y_balanced)\n",
    "    X_train, X_val, y_train, y_val = train_test_split(X_train, y_train, test_size=0.1, random_state=42, stratify=y_train)\n",
    "\n",
    "    print('Broj ciljnih vrednosti \\'closed\\' u trening skupu:', np.sum(y_train==0))\n",
    "    print('Broj ciljnih vrednosti \\'closed\\' u test skupu:', np.sum(y_test==0))\n",
    "    print('Broj ciljnih vrednosti \\'closed\\' u validacionom skupu:', np.sum(y_val==0))\n",
    "    return X_train, y_train, X_test, y_test, X_val, y_val\n",
    "    "
   ]
  },
  {
   "cell_type": "markdown",
   "id": "b813577f",
   "metadata": {},
   "source": [
    "## Random Forest algoritam"
   ]
  },
  {
   "cell_type": "code",
   "execution_count": 44,
   "id": "7a47ae88",
   "metadata": {},
   "outputs": [],
   "source": [
    "def random_forest(X_train, y_train, X_test, y_test, n_estimator): # Kreiraj instancu Random Forest klasifikatora sa 10 stabala\n",
    "    rfc = RandomForestClassifier(n_estimators=n_estimator)\n",
    "\n",
    "    # Obuči model na X_train i y_train podacima\n",
    "    rfc.fit(X_train, y_train)\n",
    "\n",
    "    # Predvidi klase za X_train i X_test podatke\n",
    "    y_train_pred = rfc.predict(X_train)\n",
    "    y_test_pred = rfc.predict(X_test)\n",
    "\n",
    "    # Izračunaj tačnost modela\n",
    "    train_accuracy = accuracy_score(y_train, y_train_pred)\n",
    "    test_accuracy = accuracy_score(y_test, y_test_pred)\n",
    "\n",
    "    print(\"Train Accuracy:\", train_accuracy)\n",
    "    print(\"Test Accuracy:\", test_accuracy)\n",
    "    print(y_test_pred)\n",
    "    return y_test_pred"
   ]
  },
  {
   "cell_type": "markdown",
   "id": "92868b68",
   "metadata": {},
   "source": [
    "## Linearna regresija"
   ]
  },
  {
   "cell_type": "code",
   "execution_count": 45,
   "id": "181a6e2d",
   "metadata": {},
   "outputs": [],
   "source": [
    "def linear_regression(X_train, y_train, X_test, y_test):\n",
    "    reg = LinearRegression()\n",
    "\n",
    "    # Obuči model na trening podacima\n",
    "    reg.fit(X_train, y_train)\n",
    "\n",
    "    # Predvidi vrednosti za test podatke\n",
    "    y_pred = reg.predict(X_test)\n",
    "\n",
    "    # Izračunaj srednju kvadratnu grešku\n",
    "    mse = mean_squared_error(y_test, y_pred)\n",
    "\n",
    "    # Prikaz rezultata\n",
    "    print(\"Koeficijenti regresije:\", reg.coef_)\n",
    "    print(\"Intercept:\", reg.intercept_)\n",
    "    print(\"Srednja kvadratna greška:\", mse)\n",
    "    print(\"-----\")\n",
    "    print(y_pred)\n",
    "    return y_pred"
   ]
  },
  {
   "cell_type": "markdown",
   "id": "4660ca7b",
   "metadata": {},
   "source": [
    "## Precision, recall i F1 mera"
   ]
  },
  {
   "cell_type": "code",
   "execution_count": 46,
   "id": "f9f27da8",
   "metadata": {},
   "outputs": [],
   "source": [
    "def get_precision_recall_f1score_for_minority_class(y_test, y_test_pred):\n",
    "    # Izvlacenje **manjiske klase**\n",
    "    y_test1 = np.array(y_test)\n",
    "    y_test_pred1 = np.array(y_test_pred)\n",
    "\n",
    "    # Izdvajanje indeksa gde se nalaze vrednosti 0 u y_test\n",
    "    idx = np.where(y_test1 == 0)[0]\n",
    "\n",
    "    # Izdvajanje samo vrednosti 0 iz y_test i y_test_pred pomocu indeksa\n",
    "    y_test1 = y_test1[idx]\n",
    "    y_test_pred1 = y_test_pred1[idx]\n",
    "\n",
    "    precision = precision_score(y_test1, y_test_pred1, pos_label=0)\n",
    "    recall = recall_score(y_test1, y_test_pred1, pos_label=0)\n",
    "    f1 = f1_score(y_test1, y_test_pred1, pos_label=0)\n",
    "\n",
    "    print(\"Precision: \", precision)\n",
    "    print(\"Recall: \", recall)\n",
    "    print(\"F1-score: \", f1)"
   ]
  },
  {
   "cell_type": "code",
   "execution_count": 47,
   "id": "c441d2f0",
   "metadata": {},
   "outputs": [],
   "source": [
    "def get_precision_recall_f1score(y_test, y_test_pred):\n",
    "    precision = precision_score(y_test, y_test_pred)\n",
    "    recall = recall_score(y_test, y_test_pred)\n",
    "    f1 = f1_score(y_test, y_test_pred)\n",
    "\n",
    "    print(\"Precision: \", precision)\n",
    "    print(\"Recall: \", recall)\n",
    "    print(\"F1-score: \", f1)"
   ]
  },
  {
   "cell_type": "markdown",
   "id": "461f1b59",
   "metadata": {},
   "source": [
    "## Algoritmi nad undersamplovanim podacima"
   ]
  },
  {
   "cell_type": "code",
   "execution_count": 48,
   "id": "5ae04b52",
   "metadata": {},
   "outputs": [],
   "source": [
    "X_undersampling, y_undersampling = undersamping(X, y)\n",
    "#TODO SD: obrisati\n",
    "X_undersampling.to_csv('undersampling_x.csv', index=False)\n",
    "y_undersampling.to_csv('undersampling_y.csv', index=False)\n",
    "print(\"---\")\n",
    "X_train_u, y_train_u, X_test_u, y_test_u, X_val_u, y_val_u = dataset_partitioning(X_undersampling, y_undersampling)"
   ]
  },
  {
   "cell_type": "markdown",
   "id": "9802c0f4",
   "metadata": {},
   "source": [
    "### Random Forest"
   ]
  },
  {
   "cell_type": "code",
   "execution_count": 49,
   "id": "d72be0c5",
   "metadata": {},
   "outputs": [],
   "source": [
    "y_rnd_forest_u_pred = random_forest(X_train_u, y_train_u, X_test_u, y_test_u, 10)\n",
    "print(\"*** Precision recall i f1 mera nad celim skupom ***\")\n",
    "get_precision_recall_f1score(y_test_u, y_rnd_forest_u_pred)\n",
    "print(\"*** Precision recall i f1 mera nad manjinskoj klasi ***\")\n",
    "get_precision_recall_f1score_for_minority_class(y_test_u, y_rnd_forest_u_pred)"
   ]
  },
  {
   "cell_type": "markdown",
   "id": "6f35e8fe",
   "metadata": {},
   "source": [
    "\n",
    "### Linearna regresija "
   ]
  },
  {
   "cell_type": "code",
   "execution_count": 50,
   "id": "fcd44a06",
   "metadata": {},
   "outputs": [],
   "source": [
    "y_lr_u_pred = linear_regression(X_train_u, y_train_u, X_test_u, y_test_u)"
   ]
  },
  {
   "cell_type": "markdown",
   "id": "11b3fe39",
   "metadata": {},
   "source": [
    "## Algoritmi nad oversamplovanim podacima"
   ]
  },
  {
   "cell_type": "code",
   "execution_count": 51,
   "id": "da0502c2",
   "metadata": {},
   "outputs": [],
   "source": [
    "X_oversampling, y_oversampling = oversampling(X, y)\n",
    "#TODO SD: obrisati\n",
    "X_oversampling.to_csv('oversampling_x.csv', index=False)\n",
    "y_oversampling.to_csv('oversampling_y.csv', index=False)\n",
    "print(\"---\")\n",
    "X_train_o, y_train_o, X_test_o, y_test_o, X_val_o, y_val_o = dataset_partitioning(X_oversampling, y_oversampling)"
   ]
  },
  {
   "cell_type": "markdown",
   "id": "55b8fd09",
   "metadata": {},
   "source": [
    "### Random Forest"
   ]
  },
  {
   "cell_type": "code",
   "execution_count": 52,
   "id": "bb7ddd06",
   "metadata": {},
   "outputs": [],
   "source": [
    "y_rnd_forest_o_pred = random_forest(X_train_o, y_train_o, X_test_o, y_test_o, 10)\n",
    "print(\"*** Precision recall i f1 mera nad celim skupom ***\")\n",
    "get_precision_recall_f1score(y_test_o, y_rnd_forest_o_pred)\n",
    "print(\"*** Precision recall i f1 mera nad manjinskoj klasi ***\")\n",
    "get_precision_recall_f1score_for_minority_class(y_test_o, y_rnd_forest_o_pred)"
   ]
  },
  {
   "cell_type": "markdown",
   "id": "650285e6",
   "metadata": {},
   "source": [
    "### Linearna regresija"
   ]
  },
  {
   "cell_type": "code",
   "execution_count": 53,
   "id": "fd944531",
   "metadata": {},
   "outputs": [],
   "source": [
    "y_lr_o_pred = linear_regression(X_train_o, y_train_o, X_test_o, y_test_o)"
   ]
  },
  {
   "cell_type": "code",
   "execution_count": null,
   "id": "c8ab17a7",
   "metadata": {},
   "outputs": [],
   "source": []
  }
 ],
 "metadata": {
  "kernelspec": {
   "display_name": "Python 3 (ipykernel)",
   "language": "python",
   "name": "python3"
  },
  "language_info": {
   "codemirror_mode": {
    "name": "ipython",
    "version": 3
   },
   "file_extension": ".py",
   "mimetype": "text/x-python",
   "name": "python",
   "nbconvert_exporter": "python",
   "pygments_lexer": "ipython3",
   "version": "3.9.2"
  }
 },
 "nbformat": 4,
 "nbformat_minor": 5
}
