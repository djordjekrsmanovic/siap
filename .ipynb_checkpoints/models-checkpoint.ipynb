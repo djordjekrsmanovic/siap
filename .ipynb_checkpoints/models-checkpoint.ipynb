{
 "cells": [
  {
   "cell_type": "markdown",
   "id": "94915194",
   "metadata": {},
   "source": [
    "# Algorithms"
   ]
  },
  {
   "cell_type": "code",
   "execution_count": 15,
   "id": "34d4f379",
   "metadata": {},
   "outputs": [],
   "source": [
    "import numpy as np\n",
    "from sklearn.ensemble import RandomForestClassifier\n",
    "from sklearn.metrics import accuracy_score\n",
    "from sklearn.metrics import precision_score, recall_score, f1_score\n",
    "from sklearn.linear_model import LinearRegression\n",
    "from sklearn.metrics import mean_squared_error\n",
    "from sklearn.neighbors import KNeighborsClassifier\n",
    "from sklearn.tree import DecisionTreeClassifier\n",
    "from sklearn import datasets\n",
    "from sklearn.model_selection import train_test_split\n",
    "import pandas as pd\n",
    "from sklearn.tree import DecisionTreeClassifier\n",
    "from sklearn.neighbors import KNeighborsClassifier"
   ]
  },
  {
   "cell_type": "markdown",
   "id": "99609bb8",
   "metadata": {},
   "source": [
    "### Ucitavanje pretprocesiranih podataka"
   ]
  },
  {
   "cell_type": "code",
   "execution_count": 2,
   "id": "e7d9beea",
   "metadata": {},
   "outputs": [],
   "source": [
    "def dataset_partitioning(X_balanced, y_balanced):\n",
    "    X_train, X_test, y_train, y_test = train_test_split(X_balanced, y_balanced, test_size=0.111, random_state=42, stratify=y_balanced)\n",
    "    X_train, X_val, y_train, y_val = train_test_split(X_train, y_train, test_size=0.1, random_state=42, stratify=y_train)\n",
    "\n",
    "    print('Broj ciljnih vrednosti \\'closed\\' u trening skupu:', np.sum(y_train==0))\n",
    "    print('Broj ciljnih vrednosti \\'closed\\' u test skupu:', np.sum(y_test==0))\n",
    "    print('Broj ciljnih vrednosti \\'closed\\' u validacionom skupu:', np.sum(y_val==0))\n",
    "    return X_train, y_train, X_test, y_test, X_val, y_val"
   ]
  },
  {
   "cell_type": "code",
   "execution_count": 3,
   "id": "299801b0",
   "metadata": {},
   "outputs": [],
   "source": [
    "X_o = pd.read_csv('undersampling_x.csv')\n",
    "y_o = pd.read_csv('undersampling_y.csv')\n",
    "y_o = y_o.values.reshape(-1)"
   ]
  },
  {
   "cell_type": "code",
   "execution_count": 4,
   "id": "98481b8f",
   "metadata": {},
   "outputs": [],
   "source": [
    "X_undersampling = pd.read_csv('oversampling_x.csv')\n",
    "y_undersampling = pd.read_csv('oversampling_y.csv')\n",
    "y_undersampling = y_undersampling.values.reshape(-1)"
   ]
  },
  {
   "cell_type": "code",
   "execution_count": 5,
   "id": "3d141431",
   "metadata": {},
   "outputs": [
    {
     "name": "stdout",
     "output_type": "stream",
     "text": [
      "Broj ciljnih vrednosti 'closed' u trening skupu: 18591\n",
      "Broj ciljnih vrednosti 'closed' u test skupu: 2580\n",
      "Broj ciljnih vrednosti 'closed' u validacionom skupu: 2066\n"
     ]
    }
   ],
   "source": [
    "X_train_u, y_train_u, X_test_u, y_test_u, X_val_u, y_val_u = dataset_partitioning(X_undersampling, y_undersampling)"
   ]
  },
  {
   "cell_type": "markdown",
   "id": "c7b27624",
   "metadata": {},
   "source": [
    "## Precision, recall i F1 mera: za manjinsku klasu i ceo dataset"
   ]
  },
  {
   "cell_type": "code",
   "execution_count": 6,
   "id": "5969634c",
   "metadata": {},
   "outputs": [],
   "source": [
    "def get_precision_recall_f1score_for_minority_class(y_test, y_test_pred):\n",
    "    # Izvlacenje **manjiske klase**\n",
    "    y_test1 = np.array(y_test)\n",
    "    y_test_pred1 = np.array(y_test_pred)\n",
    "\n",
    "    # Izdvajanje indeksa gde se nalaze vrednosti 0 u y_test\n",
    "    idx = np.where(y_test1 == 0)[0]\n",
    "\n",
    "    # Izdvajanje samo vrednosti 0 iz y_test i y_test_pred pomocu indeksa\n",
    "    y_test1 = y_test1[idx]\n",
    "    y_test_pred1 = y_test_pred1[idx]\n",
    "\n",
    "    precision = precision_score(y_test1, y_test_pred1, pos_label=0)\n",
    "    recall = recall_score(y_test1, y_test_pred1, pos_label=0)\n",
    "    f1 = f1_score(y_test1, y_test_pred1, pos_label=0)\n",
    "\n",
    "    print(\"Precision: \", precision)\n",
    "    print(\"Recall: \", recall)\n",
    "    print(\"F1-score: \", f1)"
   ]
  },
  {
   "cell_type": "code",
   "execution_count": 7,
   "id": "f7225d65",
   "metadata": {},
   "outputs": [],
   "source": [
    "def get_precision_recall_f1score(y_test, y_test_pred):\n",
    "    precision = precision_score(y_test, y_test_pred)\n",
    "    recall = recall_score(y_test, y_test_pred)\n",
    "    f1 = f1_score(y_test, y_test_pred)\n",
    "\n",
    "    print(\"Precision: \", precision)\n",
    "    print(\"Recall: \", recall)\n",
    "    print(\"F1-score: \", f1)"
   ]
  },
  {
   "cell_type": "markdown",
   "id": "4fee5b2c",
   "metadata": {},
   "source": [
    "## Random Forest "
   ]
  },
  {
   "cell_type": "code",
   "execution_count": 8,
   "id": "4b326364",
   "metadata": {},
   "outputs": [],
   "source": [
    "# Kreiraj instancu Random Forest klasifikatora sa 10 stabala\n",
    "def random_forest(X_train, y_train, X_test, y_test, n_estimator): \n",
    "    rfc = RandomForestClassifier(n_estimators=n_estimator)\n",
    "\n",
    "    # Obuči model na X_train i y_train podacima\n",
    "    rfc.fit(X_train, y_train)\n",
    "\n",
    "    # Predvidi klase za X_train i X_test podatke\n",
    "    y_train_pred = rfc.predict(X_train)\n",
    "    y_test_pred = rfc.predict(X_test)\n",
    "\n",
    "    # Izračunaj tačnost modela\n",
    "    train_accuracy = accuracy_score(y_train, y_train_pred)\n",
    "    test_accuracy = accuracy_score(y_test, y_test_pred)\n",
    "\n",
    "    print(\"Train Accuracy:\", train_accuracy)\n",
    "    print(\"Test Accuracy:\", test_accuracy)\n",
    "#     print(y_test_pred)\n",
    "    return y_test_pred"
   ]
  },
  {
   "cell_type": "code",
   "execution_count": 9,
   "id": "0279f024",
   "metadata": {},
   "outputs": [
    {
     "name": "stdout",
     "output_type": "stream",
     "text": [
      "Train Accuracy: 0.9901030040609956\n",
      "Test Accuracy: 0.9730567939523164\n",
      "\n",
      "*** Precision recall i f1 mera nad celim skupom ***\n",
      "Precision:  0.9780564263322884\n",
      "Recall:  0.9678169833268708\n",
      "F1-score:  0.9729097641785226\n",
      "\n",
      "*** Precision recall i f1 mera nad manjinskoj klasi ***\n",
      "Precision:  1.0\n",
      "Recall:  0.9782945736434109\n",
      "F1-score:  0.9890282131661442\n"
     ]
    }
   ],
   "source": [
    "# Random Forest\n",
    "y_rnd_forest_u_pred = random_forest(X_train_u, y_train_u, X_test_u, y_test_u, 10)\n",
    "print(\"\\n*** Precision recall i f1 mera nad celim skupom ***\")\n",
    "get_precision_recall_f1score(y_test_u, y_rnd_forest_u_pred)\n",
    "print(\"\\n*** Precision recall i f1 mera nad manjinskoj klasi ***\")\n",
    "get_precision_recall_f1score_for_minority_class(y_test_u, y_rnd_forest_u_pred)"
   ]
  },
  {
   "cell_type": "markdown",
   "id": "4c34e133",
   "metadata": {},
   "source": [
    "## Linearna regresija (TODO: nije na spisku - obrisati?)"
   ]
  },
  {
   "cell_type": "code",
   "execution_count": 16,
   "id": "46fdb5a0",
   "metadata": {},
   "outputs": [],
   "source": [
    "def linear_regression(X_train, y_train, X_test, y_test):\n",
    "    reg = LinearRegression()\n",
    "\n",
    "    # Obuči model na trening podacima\n",
    "    reg.fit(X_train, y_train)\n",
    "\n",
    "    # Predvidi vrednosti za test podatke\n",
    "    y_pred = reg.predict(X_test)\n",
    "\n",
    "    # Izračunaj srednju kvadratnu grešku\n",
    "    mse = mean_squared_error(y_test, y_pred)\n",
    "\n",
    "    # Prikaz rezultata\n",
    "    print(\"Koeficijenti regresije:\", reg.coef_)\n",
    "    print(\"Intercept:\", reg.intercept_)\n",
    "    print(\"Srednja kvadratna greška:\", mse)\n",
    "#     print(y_pred)\n",
    "    return y_pred"
   ]
  },
  {
   "cell_type": "code",
   "execution_count": 17,
   "id": "1556d910",
   "metadata": {},
   "outputs": [
    {
     "name": "stdout",
     "output_type": "stream",
     "text": [
      "Koeficijenti regresije: [ 5.57847225e-05 -5.75094778e-04 -1.14142926e-02  1.51955368e-10\n",
      "  1.09839786e-02  9.58689327e-04  2.76285817e-04  1.37444186e-01\n",
      " -2.09388420e-02  7.97522016e-01  8.98107375e-01  9.28167449e-01\n",
      "  8.89023166e-01  8.55291772e-01  8.89863837e-01  9.45852852e-01\n",
      "  7.37548364e-01  9.20344150e-01  8.42737356e-01  8.97422131e-01\n",
      "  8.36630111e-01  5.60453005e-01  9.13908026e-01  7.82166176e-01\n",
      "  9.43752346e-01  8.88106819e-01  9.18545949e-01  9.35484245e-01\n",
      "  9.64161018e-01  9.01999871e-01  4.11058092e-01  7.32599695e-01\n",
      "  8.89011471e-01  9.90475392e-01  8.94440590e-01  9.15507149e-01\n",
      "  9.16571482e-01  8.77965088e-01  9.13678586e-01  8.37464576e-01\n",
      "  8.88215269e-01  9.03335993e-01  8.54167332e-01  9.23073916e-01\n",
      "  8.81199188e-01  7.82823280e-01  8.50912689e-01  8.60738419e-01\n",
      "  4.91355965e-01  8.21852058e-01  4.41531408e-01 -5.49961648e-02\n",
      "  5.49961647e-02]\n",
      "Intercept: 0.02213355561358127\n",
      "Srednja kvadratna greška: 0.0727173774451587\n"
     ]
    }
   ],
   "source": [
    "y_lr_u_pred = linear_regression(X_train_u, y_train_u, X_test_u, y_test_u)"
   ]
  },
  {
   "cell_type": "markdown",
   "id": "21abd190",
   "metadata": {},
   "source": [
    "## Logisticka regresija"
   ]
  },
  {
   "cell_type": "code",
   "execution_count": 11,
   "id": "603eedcd",
   "metadata": {},
   "outputs": [],
   "source": [
    "def logistic_regression(X, y, learning_rate, num_iterations):\n",
    "    # Inicijaliziraj težine i pristranosti na nulu\n",
    "    weights = np.zeros(X.shape[1])\n",
    "    bias = 0\n",
    "\n",
    "    # broj uzoraka\n",
    "    m = X.shape[0]\n",
    "\n",
    "    # Prolazak kroz broj iteracija\n",
    "    for i in range(num_iterations):\n",
    "        # Izračunaj linearnu funkciju\n",
    "        linear_function = np.dot(X, weights) + bias\n",
    "\n",
    "        # Izračunaj sigmoidnu funkciju\n",
    "        y_predicted = 1 / (1 + np.exp(-linear_function))\n",
    "\n",
    "        # Izračunaj gradijent\n",
    "        dw = (1 / m) * np.dot(X.T, (y_predicted - y))\n",
    "        db = (1 / m) * np.sum(y_predicted - y)\n",
    "\n",
    "        # Ažuriraj težine i pristranost\n",
    "        weights = weights - learning_rate * dw\n",
    "        bias = bias - learning_rate * db\n",
    "\n",
    "    # Vrati težine i pristranost\n",
    "    parameters = {\"weights\": weights, \"bias\": bias}\n",
    "    return parameters"
   ]
  },
  {
   "cell_type": "markdown",
   "id": "7b6a7fb5",
   "metadata": {},
   "source": [
    "## K-Nearest Neighbour"
   ]
  },
  {
   "cell_type": "code",
   "execution_count": 12,
   "id": "33037b07",
   "metadata": {},
   "outputs": [
    {
     "name": "stdout",
     "output_type": "stream",
     "text": [
      "Preciznost KNN klasifikatora je: 1.0\n"
     ]
    }
   ],
   "source": [
    "def knn(X_train, y_train, X_test, y_test, n_neighbors=5):\n",
    "    # Inicijalizacija klasifikatora k-najbližih suseda\n",
    "    knn = KNeighborsClassifier(n_neighbors=n_neighbors)\n",
    "    \n",
    "    # Treniranje klasifikatora k-najbližih suseda na trening skupu podataka\n",
    "    knn.fit(X_train, y_train)\n",
    "    \n",
    "    # Predviđanje ciljnih vrednosti na test skupu podataka\n",
    "    y_pred = knn.predict(X_test)\n",
    "    \n",
    "    # Izračunavanje tačnosti predikcije\n",
    "    accuracy = accuracy_score(y_test, y_pred)\n",
    "     print(\"KNN accuracy: \", accuracy)\n",
    "    "
   ]
  },
  {
   "cell_type": "code",
   "execution_count": null,
   "id": "d4e9d427",
   "metadata": {},
   "outputs": [],
   "source": [
    "knn(X_train_u, y_train_u, X_test_u, y_test_u)"
   ]
  },
  {
   "cell_type": "markdown",
   "id": "a46c6ebb",
   "metadata": {},
   "source": [
    "## Decision tree"
   ]
  },
  {
   "cell_type": "code",
   "execution_count": 30,
   "id": "ba36cfa1",
   "metadata": {},
   "outputs": [],
   "source": [
    "def decision_tree(X_train, y_train, X_test, y_test, max_depth=None, min_samples_split=2):\n",
    "    # Inicijalizacija klasifikatora odlučivanja\n",
    "    dtc = DecisionTreeClassifier(max_depth=max_depth, min_samples_split=min_samples_split)\n",
    "    \n",
    "    # Treniranje klasifikatora odlučivanja na trening skupu podataka\n",
    "    dtc.fit(X_train, y_train)\n",
    "    \n",
    "    # Predviđanje ciljnih vrednosti na test skupu podataka\n",
    "    y_pred = dtc.predict(X_test)\n",
    "    \n",
    "    # Izračunavanje tačnosti predikcije\n",
    "    accuracy = accuracy_score(y_test, y_pred)\n",
    "    print(\"Decision tree accuracy: \", accuracy)"
   ]
  },
  {
   "cell_type": "code",
   "execution_count": 34,
   "id": "da7e393b",
   "metadata": {},
   "outputs": [
    {
     "name": "stdout",
     "output_type": "stream",
     "text": [
      "Decision tree accuracy:  0.723589842992828\n"
     ]
    }
   ],
   "source": [
    "decision_tree(X_train_u, y_train_u, X_test_u, y_test_u, 1, 5)"
   ]
  }
 ],
 "metadata": {
  "kernelspec": {
   "display_name": "Python 3 (ipykernel)",
   "language": "python",
   "name": "python3"
  },
  "language_info": {
   "codemirror_mode": {
    "name": "ipython",
    "version": 3
   },
   "file_extension": ".py",
   "mimetype": "text/x-python",
   "name": "python",
   "nbconvert_exporter": "python",
   "pygments_lexer": "ipython3",
   "version": "3.9.2"
  }
 },
 "nbformat": 4,
 "nbformat_minor": 5
}
