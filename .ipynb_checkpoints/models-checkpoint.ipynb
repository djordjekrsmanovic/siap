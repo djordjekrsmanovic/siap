{
 "cells": [
  {
   "cell_type": "markdown",
   "id": "94915194",
   "metadata": {},
   "source": [
    "# Algorithms"
   ]
  },
  {
   "cell_type": "code",
   "execution_count": 1,
   "id": "34d4f379",
   "metadata": {},
   "outputs": [],
   "source": [
    "import numpy as np\n",
    "from sklearn.ensemble import RandomForestClassifier\n",
    "from sklearn.metrics import accuracy_score\n",
    "from sklearn.metrics import precision_score, recall_score, f1_score\n",
    "from sklearn.linear_model import LinearRegression\n",
    "from sklearn.metrics import mean_squared_error\n",
    "from sklearn.neighbors import KNeighborsClassifier\n",
    "from sklearn.tree import DecisionTreeClassifier\n",
    "from sklearn import datasets\n",
    "from sklearn.model_selection import train_test_split\n",
    "import pandas as pd\n",
    "from sklearn.tree import DecisionTreeClassifier\n",
    "from sklearn.neighbors import KNeighborsClassifier\n",
    "from sklearn.linear_model import LogisticRegression\n",
    "from sklearn.ensemble import BaggingClassifier\n",
    "from sklearn.tree import DecisionTreeClassifier\n",
    "from sklearn.ensemble import BaggingClassifier\n",
    "import xgboost as xgb\n",
    "from sklearn.model_selection import GridSearchCV"
   ]
  },
  {
   "cell_type": "markdown",
   "id": "2535a108",
   "metadata": {},
   "source": [
    "### Ucitavanje pretprocesiranih podataka"
   ]
  },
  {
   "cell_type": "code",
   "execution_count": 2,
   "id": "2bfde262",
   "metadata": {},
   "outputs": [],
   "source": [
    "def dataset_partitioning(X_balanced, y_balanced):\n",
    "    X_train, X_test, y_train, y_test = train_test_split(X_balanced, y_balanced, test_size=0.111, random_state=42, stratify=y_balanced)\n",
    "    X_train, X_val, y_train, y_val = train_test_split(X_train, y_train, test_size=0.1, random_state=42, stratify=y_train)\n",
    "\n",
    "    print('Broj ciljnih vrednosti \\'closed\\' u trening skupu:', np.sum(y_train==0))\n",
    "    print('Broj ciljnih vrednosti \\'closed\\' u test skupu:', np.sum(y_test==0))\n",
    "    print('Broj ciljnih vrednosti \\'closed\\' u validacionom skupu:', np.sum(y_val==0))\n",
    "    return X_train, y_train, X_test, y_test, X_val, y_val"
   ]
  },
  {
   "cell_type": "code",
   "execution_count": 3,
   "id": "0abe0d0e",
   "metadata": {},
   "outputs": [],
   "source": [
    "X_oversampling = pd.read_csv('oversampling_x.csv')\n",
    "y_oversampling = pd.read_csv('oversampling_y.csv')\n",
    "y_oversampling = y_oversampling.values.reshape(-1)"
   ]
  },
  {
   "cell_type": "code",
   "execution_count": 4,
   "id": "16aa86a6",
   "metadata": {},
   "outputs": [
    {
     "name": "stdout",
     "output_type": "stream",
     "text": [
      "Broj ciljnih vrednosti 'closed' u trening skupu: 18591\n",
      "Broj ciljnih vrednosti 'closed' u test skupu: 2580\n",
      "Broj ciljnih vrednosti 'closed' u validacionom skupu: 2066\n"
     ]
    }
   ],
   "source": [
    "X_train_o, y_train_o, X_test_o, y_test_o, X_val_o, y_val_o = dataset_partitioning(X_oversampling, y_oversampling)"
   ]
  },
  {
   "cell_type": "code",
   "execution_count": 5,
   "id": "bf1f6bf9",
   "metadata": {},
   "outputs": [
    {
     "ename": "FileNotFoundError",
     "evalue": "[Errno 2] No such file or directory: 'undersampling.csv'",
     "output_type": "error",
     "traceback": [
      "\u001b[0;31m---------------------------------------------------------------------------\u001b[0m",
      "\u001b[0;31mFileNotFoundError\u001b[0m                         Traceback (most recent call last)",
      "Cell \u001b[0;32mIn[5], line 1\u001b[0m\n\u001b[0;32m----> 1\u001b[0m X_undersampling \u001b[38;5;241m=\u001b[39m \u001b[43mpd\u001b[49m\u001b[38;5;241;43m.\u001b[39;49m\u001b[43mread_csv\u001b[49m\u001b[43m(\u001b[49m\u001b[38;5;124;43m'\u001b[39;49m\u001b[38;5;124;43mundersampling.csv\u001b[39;49m\u001b[38;5;124;43m'\u001b[39;49m\u001b[43m)\u001b[49m\n\u001b[1;32m      2\u001b[0m y_undersampling \u001b[38;5;241m=\u001b[39m pd\u001b[38;5;241m.\u001b[39mread_csv(\u001b[38;5;124m'\u001b[39m\u001b[38;5;124mundersampling.csv\u001b[39m\u001b[38;5;124m'\u001b[39m)\n\u001b[1;32m      3\u001b[0m y_undersampling \u001b[38;5;241m=\u001b[39m y_undersampling\u001b[38;5;241m.\u001b[39mvalues\u001b[38;5;241m.\u001b[39mreshape(\u001b[38;5;241m-\u001b[39m\u001b[38;5;241m1\u001b[39m)\n",
      "File \u001b[0;32m~/miniforge3/lib/python3.9/site-packages/pandas/util/_decorators.py:211\u001b[0m, in \u001b[0;36mdeprecate_kwarg.<locals>._deprecate_kwarg.<locals>.wrapper\u001b[0;34m(*args, **kwargs)\u001b[0m\n\u001b[1;32m    209\u001b[0m     \u001b[38;5;28;01melse\u001b[39;00m:\n\u001b[1;32m    210\u001b[0m         kwargs[new_arg_name] \u001b[38;5;241m=\u001b[39m new_arg_value\n\u001b[0;32m--> 211\u001b[0m \u001b[38;5;28;01mreturn\u001b[39;00m \u001b[43mfunc\u001b[49m\u001b[43m(\u001b[49m\u001b[38;5;241;43m*\u001b[39;49m\u001b[43margs\u001b[49m\u001b[43m,\u001b[49m\u001b[43m \u001b[49m\u001b[38;5;241;43m*\u001b[39;49m\u001b[38;5;241;43m*\u001b[39;49m\u001b[43mkwargs\u001b[49m\u001b[43m)\u001b[49m\n",
      "File \u001b[0;32m~/miniforge3/lib/python3.9/site-packages/pandas/util/_decorators.py:331\u001b[0m, in \u001b[0;36mdeprecate_nonkeyword_arguments.<locals>.decorate.<locals>.wrapper\u001b[0;34m(*args, **kwargs)\u001b[0m\n\u001b[1;32m    325\u001b[0m \u001b[38;5;28;01mif\u001b[39;00m \u001b[38;5;28mlen\u001b[39m(args) \u001b[38;5;241m>\u001b[39m num_allow_args:\n\u001b[1;32m    326\u001b[0m     warnings\u001b[38;5;241m.\u001b[39mwarn(\n\u001b[1;32m    327\u001b[0m         msg\u001b[38;5;241m.\u001b[39mformat(arguments\u001b[38;5;241m=\u001b[39m_format_argument_list(allow_args)),\n\u001b[1;32m    328\u001b[0m         \u001b[38;5;167;01mFutureWarning\u001b[39;00m,\n\u001b[1;32m    329\u001b[0m         stacklevel\u001b[38;5;241m=\u001b[39mfind_stack_level(),\n\u001b[1;32m    330\u001b[0m     )\n\u001b[0;32m--> 331\u001b[0m \u001b[38;5;28;01mreturn\u001b[39;00m \u001b[43mfunc\u001b[49m\u001b[43m(\u001b[49m\u001b[38;5;241;43m*\u001b[39;49m\u001b[43margs\u001b[49m\u001b[43m,\u001b[49m\u001b[43m \u001b[49m\u001b[38;5;241;43m*\u001b[39;49m\u001b[38;5;241;43m*\u001b[39;49m\u001b[43mkwargs\u001b[49m\u001b[43m)\u001b[49m\n",
      "File \u001b[0;32m~/miniforge3/lib/python3.9/site-packages/pandas/io/parsers/readers.py:950\u001b[0m, in \u001b[0;36mread_csv\u001b[0;34m(filepath_or_buffer, sep, delimiter, header, names, index_col, usecols, squeeze, prefix, mangle_dupe_cols, dtype, engine, converters, true_values, false_values, skipinitialspace, skiprows, skipfooter, nrows, na_values, keep_default_na, na_filter, verbose, skip_blank_lines, parse_dates, infer_datetime_format, keep_date_col, date_parser, dayfirst, cache_dates, iterator, chunksize, compression, thousands, decimal, lineterminator, quotechar, quoting, doublequote, escapechar, comment, encoding, encoding_errors, dialect, error_bad_lines, warn_bad_lines, on_bad_lines, delim_whitespace, low_memory, memory_map, float_precision, storage_options)\u001b[0m\n\u001b[1;32m    935\u001b[0m kwds_defaults \u001b[38;5;241m=\u001b[39m _refine_defaults_read(\n\u001b[1;32m    936\u001b[0m     dialect,\n\u001b[1;32m    937\u001b[0m     delimiter,\n\u001b[0;32m   (...)\u001b[0m\n\u001b[1;32m    946\u001b[0m     defaults\u001b[38;5;241m=\u001b[39m{\u001b[38;5;124m\"\u001b[39m\u001b[38;5;124mdelimiter\u001b[39m\u001b[38;5;124m\"\u001b[39m: \u001b[38;5;124m\"\u001b[39m\u001b[38;5;124m,\u001b[39m\u001b[38;5;124m\"\u001b[39m},\n\u001b[1;32m    947\u001b[0m )\n\u001b[1;32m    948\u001b[0m kwds\u001b[38;5;241m.\u001b[39mupdate(kwds_defaults)\n\u001b[0;32m--> 950\u001b[0m \u001b[38;5;28;01mreturn\u001b[39;00m \u001b[43m_read\u001b[49m\u001b[43m(\u001b[49m\u001b[43mfilepath_or_buffer\u001b[49m\u001b[43m,\u001b[49m\u001b[43m \u001b[49m\u001b[43mkwds\u001b[49m\u001b[43m)\u001b[49m\n",
      "File \u001b[0;32m~/miniforge3/lib/python3.9/site-packages/pandas/io/parsers/readers.py:605\u001b[0m, in \u001b[0;36m_read\u001b[0;34m(filepath_or_buffer, kwds)\u001b[0m\n\u001b[1;32m    602\u001b[0m _validate_names(kwds\u001b[38;5;241m.\u001b[39mget(\u001b[38;5;124m\"\u001b[39m\u001b[38;5;124mnames\u001b[39m\u001b[38;5;124m\"\u001b[39m, \u001b[38;5;28;01mNone\u001b[39;00m))\n\u001b[1;32m    604\u001b[0m \u001b[38;5;66;03m# Create the parser.\u001b[39;00m\n\u001b[0;32m--> 605\u001b[0m parser \u001b[38;5;241m=\u001b[39m \u001b[43mTextFileReader\u001b[49m\u001b[43m(\u001b[49m\u001b[43mfilepath_or_buffer\u001b[49m\u001b[43m,\u001b[49m\u001b[43m \u001b[49m\u001b[38;5;241;43m*\u001b[39;49m\u001b[38;5;241;43m*\u001b[39;49m\u001b[43mkwds\u001b[49m\u001b[43m)\u001b[49m\n\u001b[1;32m    607\u001b[0m \u001b[38;5;28;01mif\u001b[39;00m chunksize \u001b[38;5;129;01mor\u001b[39;00m iterator:\n\u001b[1;32m    608\u001b[0m     \u001b[38;5;28;01mreturn\u001b[39;00m parser\n",
      "File \u001b[0;32m~/miniforge3/lib/python3.9/site-packages/pandas/io/parsers/readers.py:1442\u001b[0m, in \u001b[0;36mTextFileReader.__init__\u001b[0;34m(self, f, engine, **kwds)\u001b[0m\n\u001b[1;32m   1439\u001b[0m     \u001b[38;5;28mself\u001b[39m\u001b[38;5;241m.\u001b[39moptions[\u001b[38;5;124m\"\u001b[39m\u001b[38;5;124mhas_index_names\u001b[39m\u001b[38;5;124m\"\u001b[39m] \u001b[38;5;241m=\u001b[39m kwds[\u001b[38;5;124m\"\u001b[39m\u001b[38;5;124mhas_index_names\u001b[39m\u001b[38;5;124m\"\u001b[39m]\n\u001b[1;32m   1441\u001b[0m \u001b[38;5;28mself\u001b[39m\u001b[38;5;241m.\u001b[39mhandles: IOHandles \u001b[38;5;241m|\u001b[39m \u001b[38;5;28;01mNone\u001b[39;00m \u001b[38;5;241m=\u001b[39m \u001b[38;5;28;01mNone\u001b[39;00m\n\u001b[0;32m-> 1442\u001b[0m \u001b[38;5;28mself\u001b[39m\u001b[38;5;241m.\u001b[39m_engine \u001b[38;5;241m=\u001b[39m \u001b[38;5;28;43mself\u001b[39;49m\u001b[38;5;241;43m.\u001b[39;49m\u001b[43m_make_engine\u001b[49m\u001b[43m(\u001b[49m\u001b[43mf\u001b[49m\u001b[43m,\u001b[49m\u001b[43m \u001b[49m\u001b[38;5;28;43mself\u001b[39;49m\u001b[38;5;241;43m.\u001b[39;49m\u001b[43mengine\u001b[49m\u001b[43m)\u001b[49m\n",
      "File \u001b[0;32m~/miniforge3/lib/python3.9/site-packages/pandas/io/parsers/readers.py:1735\u001b[0m, in \u001b[0;36mTextFileReader._make_engine\u001b[0;34m(self, f, engine)\u001b[0m\n\u001b[1;32m   1733\u001b[0m     \u001b[38;5;28;01mif\u001b[39;00m \u001b[38;5;124m\"\u001b[39m\u001b[38;5;124mb\u001b[39m\u001b[38;5;124m\"\u001b[39m \u001b[38;5;129;01mnot\u001b[39;00m \u001b[38;5;129;01min\u001b[39;00m mode:\n\u001b[1;32m   1734\u001b[0m         mode \u001b[38;5;241m+\u001b[39m\u001b[38;5;241m=\u001b[39m \u001b[38;5;124m\"\u001b[39m\u001b[38;5;124mb\u001b[39m\u001b[38;5;124m\"\u001b[39m\n\u001b[0;32m-> 1735\u001b[0m \u001b[38;5;28mself\u001b[39m\u001b[38;5;241m.\u001b[39mhandles \u001b[38;5;241m=\u001b[39m \u001b[43mget_handle\u001b[49m\u001b[43m(\u001b[49m\n\u001b[1;32m   1736\u001b[0m \u001b[43m    \u001b[49m\u001b[43mf\u001b[49m\u001b[43m,\u001b[49m\n\u001b[1;32m   1737\u001b[0m \u001b[43m    \u001b[49m\u001b[43mmode\u001b[49m\u001b[43m,\u001b[49m\n\u001b[1;32m   1738\u001b[0m \u001b[43m    \u001b[49m\u001b[43mencoding\u001b[49m\u001b[38;5;241;43m=\u001b[39;49m\u001b[38;5;28;43mself\u001b[39;49m\u001b[38;5;241;43m.\u001b[39;49m\u001b[43moptions\u001b[49m\u001b[38;5;241;43m.\u001b[39;49m\u001b[43mget\u001b[49m\u001b[43m(\u001b[49m\u001b[38;5;124;43m\"\u001b[39;49m\u001b[38;5;124;43mencoding\u001b[39;49m\u001b[38;5;124;43m\"\u001b[39;49m\u001b[43m,\u001b[49m\u001b[43m \u001b[49m\u001b[38;5;28;43;01mNone\u001b[39;49;00m\u001b[43m)\u001b[49m\u001b[43m,\u001b[49m\n\u001b[1;32m   1739\u001b[0m \u001b[43m    \u001b[49m\u001b[43mcompression\u001b[49m\u001b[38;5;241;43m=\u001b[39;49m\u001b[38;5;28;43mself\u001b[39;49m\u001b[38;5;241;43m.\u001b[39;49m\u001b[43moptions\u001b[49m\u001b[38;5;241;43m.\u001b[39;49m\u001b[43mget\u001b[49m\u001b[43m(\u001b[49m\u001b[38;5;124;43m\"\u001b[39;49m\u001b[38;5;124;43mcompression\u001b[39;49m\u001b[38;5;124;43m\"\u001b[39;49m\u001b[43m,\u001b[49m\u001b[43m \u001b[49m\u001b[38;5;28;43;01mNone\u001b[39;49;00m\u001b[43m)\u001b[49m\u001b[43m,\u001b[49m\n\u001b[1;32m   1740\u001b[0m \u001b[43m    \u001b[49m\u001b[43mmemory_map\u001b[49m\u001b[38;5;241;43m=\u001b[39;49m\u001b[38;5;28;43mself\u001b[39;49m\u001b[38;5;241;43m.\u001b[39;49m\u001b[43moptions\u001b[49m\u001b[38;5;241;43m.\u001b[39;49m\u001b[43mget\u001b[49m\u001b[43m(\u001b[49m\u001b[38;5;124;43m\"\u001b[39;49m\u001b[38;5;124;43mmemory_map\u001b[39;49m\u001b[38;5;124;43m\"\u001b[39;49m\u001b[43m,\u001b[49m\u001b[43m \u001b[49m\u001b[38;5;28;43;01mFalse\u001b[39;49;00m\u001b[43m)\u001b[49m\u001b[43m,\u001b[49m\n\u001b[1;32m   1741\u001b[0m \u001b[43m    \u001b[49m\u001b[43mis_text\u001b[49m\u001b[38;5;241;43m=\u001b[39;49m\u001b[43mis_text\u001b[49m\u001b[43m,\u001b[49m\n\u001b[1;32m   1742\u001b[0m \u001b[43m    \u001b[49m\u001b[43merrors\u001b[49m\u001b[38;5;241;43m=\u001b[39;49m\u001b[38;5;28;43mself\u001b[39;49m\u001b[38;5;241;43m.\u001b[39;49m\u001b[43moptions\u001b[49m\u001b[38;5;241;43m.\u001b[39;49m\u001b[43mget\u001b[49m\u001b[43m(\u001b[49m\u001b[38;5;124;43m\"\u001b[39;49m\u001b[38;5;124;43mencoding_errors\u001b[39;49m\u001b[38;5;124;43m\"\u001b[39;49m\u001b[43m,\u001b[49m\u001b[43m \u001b[49m\u001b[38;5;124;43m\"\u001b[39;49m\u001b[38;5;124;43mstrict\u001b[39;49m\u001b[38;5;124;43m\"\u001b[39;49m\u001b[43m)\u001b[49m\u001b[43m,\u001b[49m\n\u001b[1;32m   1743\u001b[0m \u001b[43m    \u001b[49m\u001b[43mstorage_options\u001b[49m\u001b[38;5;241;43m=\u001b[39;49m\u001b[38;5;28;43mself\u001b[39;49m\u001b[38;5;241;43m.\u001b[39;49m\u001b[43moptions\u001b[49m\u001b[38;5;241;43m.\u001b[39;49m\u001b[43mget\u001b[49m\u001b[43m(\u001b[49m\u001b[38;5;124;43m\"\u001b[39;49m\u001b[38;5;124;43mstorage_options\u001b[39;49m\u001b[38;5;124;43m\"\u001b[39;49m\u001b[43m,\u001b[49m\u001b[43m \u001b[49m\u001b[38;5;28;43;01mNone\u001b[39;49;00m\u001b[43m)\u001b[49m\u001b[43m,\u001b[49m\n\u001b[1;32m   1744\u001b[0m \u001b[43m\u001b[49m\u001b[43m)\u001b[49m\n\u001b[1;32m   1745\u001b[0m \u001b[38;5;28;01massert\u001b[39;00m \u001b[38;5;28mself\u001b[39m\u001b[38;5;241m.\u001b[39mhandles \u001b[38;5;129;01mis\u001b[39;00m \u001b[38;5;129;01mnot\u001b[39;00m \u001b[38;5;28;01mNone\u001b[39;00m\n\u001b[1;32m   1746\u001b[0m f \u001b[38;5;241m=\u001b[39m \u001b[38;5;28mself\u001b[39m\u001b[38;5;241m.\u001b[39mhandles\u001b[38;5;241m.\u001b[39mhandle\n",
      "File \u001b[0;32m~/miniforge3/lib/python3.9/site-packages/pandas/io/common.py:856\u001b[0m, in \u001b[0;36mget_handle\u001b[0;34m(path_or_buf, mode, encoding, compression, memory_map, is_text, errors, storage_options)\u001b[0m\n\u001b[1;32m    851\u001b[0m \u001b[38;5;28;01melif\u001b[39;00m \u001b[38;5;28misinstance\u001b[39m(handle, \u001b[38;5;28mstr\u001b[39m):\n\u001b[1;32m    852\u001b[0m     \u001b[38;5;66;03m# Check whether the filename is to be opened in binary mode.\u001b[39;00m\n\u001b[1;32m    853\u001b[0m     \u001b[38;5;66;03m# Binary mode does not support 'encoding' and 'newline'.\u001b[39;00m\n\u001b[1;32m    854\u001b[0m     \u001b[38;5;28;01mif\u001b[39;00m ioargs\u001b[38;5;241m.\u001b[39mencoding \u001b[38;5;129;01mand\u001b[39;00m \u001b[38;5;124m\"\u001b[39m\u001b[38;5;124mb\u001b[39m\u001b[38;5;124m\"\u001b[39m \u001b[38;5;129;01mnot\u001b[39;00m \u001b[38;5;129;01min\u001b[39;00m ioargs\u001b[38;5;241m.\u001b[39mmode:\n\u001b[1;32m    855\u001b[0m         \u001b[38;5;66;03m# Encoding\u001b[39;00m\n\u001b[0;32m--> 856\u001b[0m         handle \u001b[38;5;241m=\u001b[39m \u001b[38;5;28;43mopen\u001b[39;49m\u001b[43m(\u001b[49m\n\u001b[1;32m    857\u001b[0m \u001b[43m            \u001b[49m\u001b[43mhandle\u001b[49m\u001b[43m,\u001b[49m\n\u001b[1;32m    858\u001b[0m \u001b[43m            \u001b[49m\u001b[43mioargs\u001b[49m\u001b[38;5;241;43m.\u001b[39;49m\u001b[43mmode\u001b[49m\u001b[43m,\u001b[49m\n\u001b[1;32m    859\u001b[0m \u001b[43m            \u001b[49m\u001b[43mencoding\u001b[49m\u001b[38;5;241;43m=\u001b[39;49m\u001b[43mioargs\u001b[49m\u001b[38;5;241;43m.\u001b[39;49m\u001b[43mencoding\u001b[49m\u001b[43m,\u001b[49m\n\u001b[1;32m    860\u001b[0m \u001b[43m            \u001b[49m\u001b[43merrors\u001b[49m\u001b[38;5;241;43m=\u001b[39;49m\u001b[43merrors\u001b[49m\u001b[43m,\u001b[49m\n\u001b[1;32m    861\u001b[0m \u001b[43m            \u001b[49m\u001b[43mnewline\u001b[49m\u001b[38;5;241;43m=\u001b[39;49m\u001b[38;5;124;43m\"\u001b[39;49m\u001b[38;5;124;43m\"\u001b[39;49m\u001b[43m,\u001b[49m\n\u001b[1;32m    862\u001b[0m \u001b[43m        \u001b[49m\u001b[43m)\u001b[49m\n\u001b[1;32m    863\u001b[0m     \u001b[38;5;28;01melse\u001b[39;00m:\n\u001b[1;32m    864\u001b[0m         \u001b[38;5;66;03m# Binary mode\u001b[39;00m\n\u001b[1;32m    865\u001b[0m         handle \u001b[38;5;241m=\u001b[39m \u001b[38;5;28mopen\u001b[39m(handle, ioargs\u001b[38;5;241m.\u001b[39mmode)\n",
      "\u001b[0;31mFileNotFoundError\u001b[0m: [Errno 2] No such file or directory: 'undersampling.csv'"
     ]
    }
   ],
   "source": [
    "X_undersampling = pd.read_csv('undersampling_x.csv')\n",
    "y_undersampling = pd.read_csv('undersampling_y.csv')\n",
    "y_undersampling = y_undersampling.values.reshape(-1)"
   ]
  },
  {
   "cell_type": "code",
   "execution_count": null,
   "id": "45843a33",
   "metadata": {},
   "outputs": [],
   "source": [
    "X_train_u, y_train_u, X_test_u, y_test_u, X_val_u, y_val_u = dataset_partitioning(X_undersampling, y_undersampling)"
   ]
  },
  {
   "cell_type": "markdown",
   "id": "2f566696",
   "metadata": {},
   "source": [
    "## Precision, recall i F1 mera: za manjinsku klasu i ceo dataset"
   ]
  },
  {
   "cell_type": "code",
   "execution_count": null,
   "id": "23c806dd",
   "metadata": {},
   "outputs": [],
   "source": [
    "def get_precision_recall_f1score_for_minority_class(y_test, y_test_pred):\n",
    "    # Izvlacenje **manjiske klase**\n",
    "    y_test1 = np.array(y_test)\n",
    "    y_test_pred1 = np.array(y_test_pred)\n",
    "\n",
    "    # Izdvajanje indeksa gde se nalaze vrednosti 0 u y_test\n",
    "    idx = np.where(y_test1 == 0)[0]\n",
    "\n",
    "    # Izdvajanje samo vrednosti 0 iz y_test i y_test_pred pomocu indeksa\n",
    "    y_test1 = y_test1[idx]\n",
    "    y_test_pred1 = y_test_pred1[idx]\n",
    "\n",
    "    precision = precision_score(y_test1, y_test_pred1, pos_label=0)\n",
    "    recall = recall_score(y_test1, y_test_pred1, pos_label=0)\n",
    "    f1 = f1_score(y_test1, y_test_pred1, pos_label=0)\n",
    "\n",
    "    print(\"Precision: \", precision)\n",
    "    print(\"Recall: \", recall)\n",
    "    print(\"F1-score: \", f1)"
   ]
  },
  {
   "cell_type": "code",
   "execution_count": null,
   "id": "7d1fe7db",
   "metadata": {},
   "outputs": [],
   "source": [
    "def get_precision_recall_f1score(y_test, y_test_pred):\n",
    "    precision = precision_score(y_test, y_test_pred)\n",
    "    recall = recall_score(y_test, y_test_pred)\n",
    "    f1 = f1_score(y_test, y_test_pred)\n",
    "\n",
    "    print(\"Precision: \", precision)\n",
    "    print(\"Recall: \", recall)\n",
    "    print(\"F1-score: \", f1)"
   ]
  },
  {
   "cell_type": "markdown",
   "id": "4fee5b2c",
   "metadata": {},
   "source": [
    "## Random Forest "
   ]
  },
  {
   "cell_type": "code",
   "execution_count": null,
   "id": "4b326364",
   "metadata": {},
   "outputs": [],
   "source": [
    "# Kreiraj instancu Random Forest klasifikatora sa 10 stabala\n",
    "def random_forest(X_train, y_train, X_test, y_test, n_estimator): \n",
    "    rfc = RandomForestClassifier(n_estimators=n_estimator)\n",
    "\n",
    "    # Obuči model na X_train i y_train podacima\n",
    "    rfc.fit(X_train, y_train)\n",
    "\n",
    "    # Predvidi klase za X_train i X_test podatke\n",
    "    y_train_pred = rfc.predict(X_train)\n",
    "    y_test_pred = rfc.predict(X_test)\n",
    "\n",
    "    # Izračunaj tačnost modela\n",
    "    train_accuracy = accuracy_score(y_train, y_train_pred)\n",
    "    test_accuracy = accuracy_score(y_test, y_test_pred)\n",
    "\n",
    "    print(\"Train Accuracy:\", train_accuracy)\n",
    "    print(\"Test Accuracy:\", test_accuracy)\n",
    "#     print(y_test_pred)\n",
    "    return y_test_pred"
   ]
  },
  {
   "cell_type": "code",
   "execution_count": null,
   "id": "865b5ab7",
   "metadata": {},
   "outputs": [],
   "source": [
    "# Random Forest\n",
    "y_rnd_forest_u_pred = random_forest(X_train_u, y_train_u, X_test_u, y_test_u, 10)\n",
    "print(\"\\n*** Precision recall i f1 mera nad celim skupom ***\")\n",
    "get_precision_recall_f1score(y_test_u, y_rnd_forest_u_pred)\n",
    "print(\"\\n*** Precision recall i f1 mera nad manjinskoj klasi ***\")\n",
    "get_precision_recall_f1score_for_minority_class(y_test_u, y_rnd_forest_u_pred)"
   ]
  },
  {
   "cell_type": "markdown",
   "id": "4c34e133",
   "metadata": {},
   "source": [
    "## Linearna regresija (TODO: nije na spisku - obrisati?)"
   ]
  },
  {
   "cell_type": "code",
   "execution_count": null,
   "id": "46fdb5a0",
   "metadata": {},
   "outputs": [],
   "source": [
    "def linear_regression(X_train, y_train, X_test, y_test):\n",
    "    reg = LinearRegression()\n",
    "\n",
    "    # Obuči model na trening podacima\n",
    "    reg.fit(X_train, y_train)\n",
    "\n",
    "    # Predvidi vrednosti za test podatke\n",
    "    y_pred = reg.predict(X_test)\n",
    "\n",
    "    # Izračunaj srednju kvadratnu grešku\n",
    "    mse = mean_squared_error(y_test, y_pred)\n",
    "\n",
    "    # Prikaz rezultata\n",
    "#     print(\"Koeficijenti regresije:\", reg.coef_)\n",
    "#     print(\"Intercept:\", reg.intercept_)\n",
    "    print(\"Linear regression accuracy:\", mse)"
   ]
  },
  {
   "cell_type": "code",
   "execution_count": null,
   "id": "ca8da794",
   "metadata": {},
   "outputs": [],
   "source": [
    "linear_regression(X_train_u, y_train_u, X_test_u, y_test_u)"
   ]
  },
  {
   "cell_type": "markdown",
   "id": "21abd190",
   "metadata": {},
   "source": [
    "## Logisticka regresija"
   ]
  },
  {
   "cell_type": "code",
   "execution_count": null,
   "id": "603eedcd",
   "metadata": {},
   "outputs": [],
   "source": [
    "def logistic_regression(X_train, y_train, X_test, y_test):\n",
    "    # kreiranje objekta modela logističke regresije\n",
    "    lr_model = LogisticRegression()\n",
    "\n",
    "    # učenje modela na trening skupu podataka\n",
    "    lr_model.fit(X_train, y_train)\n",
    "\n",
    "    # predviđanje izlaza za test skup podataka\n",
    "    y_pred = lr_model.predict(X_test)\n",
    "\n",
    "    # izračunavanje tačnosti modela\n",
    "    accuracy = lr_model.score(X_test, y_test)\n",
    "\n",
    "    # ispisivanje tačnosti\n",
    "    print(\"Logistic regression accuracy:\", accuracy)"
   ]
  },
  {
   "cell_type": "code",
   "execution_count": null,
   "id": "4f980728",
   "metadata": {},
   "outputs": [],
   "source": [
    "logistic_regression(X_train_u, y_train_u, X_test_u, y_test_u)"
   ]
  },
  {
   "cell_type": "markdown",
   "id": "7b6a7fb5",
   "metadata": {},
   "source": [
    "## K-Nearest Neighbour"
   ]
  },
  {
   "cell_type": "code",
   "execution_count": null,
   "id": "33037b07",
   "metadata": {},
   "outputs": [],
   "source": [
    "def knn(X_train, y_train, X_test, y_test, n_neighbors=5):\n",
    "    # Inicijalizacija klasifikatora k-najbližih suseda\n",
    "    knn_model = KNeighborsClassifier(n_neighbors=n_neighbors)\n",
    "    \n",
    "    # Treniranje klasifikatora k-najbližih suseda na trening skupu podataka\n",
    "    knn_model.fit(X_train, y_train)\n",
    "    \n",
    "    # Predviđanje ciljnih vrednosti na test skupu podataka\n",
    "    y_pred = knn_model.predict(X_test)\n",
    "    \n",
    "    # Izračunavanje tačnosti predikcije\n",
    "    accuracy = accuracy_score(y_test, y_pred)\n",
    "    print(\"KNN accuracy: \", accuracy)"
   ]
  },
  {
   "cell_type": "code",
   "execution_count": null,
   "id": "d3b82eb2",
   "metadata": {},
   "outputs": [],
   "source": [
    "knn(X_train_u, y_train_u, X_test_u, y_test_u, 5)\n",
    "knn(X_train_u, y_train_u, X_test_u, y_test_u, 3) "
   ]
  },
  {
   "cell_type": "markdown",
   "id": "a46c6ebb",
   "metadata": {},
   "source": [
    "## Decision tree"
   ]
  },
  {
   "cell_type": "code",
   "execution_count": null,
   "id": "ba36cfa1",
   "metadata": {},
   "outputs": [],
   "source": [
    "def decision_tree(X_train, y_train, X_test, y_test, max_depth=None, min_samples_split=2):\n",
    "    # Inicijalizacija klasifikatora odlučivanja\n",
    "    dtc = DecisionTreeClassifier(max_depth=max_depth, min_samples_split=min_samples_split)\n",
    "    \n",
    "    # Treniranje klasifikatora odlučivanja na trening skupu podataka\n",
    "    dtc.fit(X_train, y_train)\n",
    "    \n",
    "    # Predviđanje ciljnih vrednosti na test skupu podataka\n",
    "    y_pred = dtc.predict(X_test)\n",
    "    \n",
    "    # Izračunavanje tačnosti predikcije\n",
    "    accuracy = accuracy_score(y_test, y_pred)\n",
    "    print(\"Decision tree accuracy: \", accuracy)"
   ]
  },
  {
   "cell_type": "code",
   "execution_count": null,
   "id": "4f3cb6fe",
   "metadata": {},
   "outputs": [],
   "source": [
    "decision_tree(X_train_u, y_train_u, X_test_u, y_test_u, 1, 5)"
   ]
  },
  {
   "cell_type": "markdown",
   "id": "8b595d5c",
   "metadata": {},
   "source": [
    "## Bagging "
   ]
  },
  {
   "cell_type": "code",
   "execution_count": null,
   "id": "d3350b63",
   "metadata": {},
   "outputs": [],
   "source": [
    "def bagging(X_train, y_train, X_test, y_test):\n",
    "    # kreiranje objekta baznog modela - odlučivanje drveta (Decision Tree)\n",
    "    base_model = DecisionTreeClassifier()\n",
    "\n",
    "    # kreiranje objekta modela Bagging\n",
    "    bagging_model = BaggingClassifier(estimator=base_model, n_estimators=10, random_state=42)\n",
    "\n",
    "    # treniranje modela\n",
    "    bagging_model.fit(X_train, y_train)\n",
    "\n",
    "    # evaluacija modela\n",
    "    accuracy = bagging_model.score(X_test, y_test)\n",
    "    print(\"Bagging accuracy:\", accuracy)"
   ]
  },
  {
   "cell_type": "code",
   "execution_count": null,
   "id": "0daeb83f",
   "metadata": {},
   "outputs": [],
   "source": [
    "bagging(X_train_u, y_train_u, X_test_u, y_test_u)"
   ]
  },
  {
   "cell_type": "markdown",
   "id": "429e7b9e",
   "metadata": {},
   "source": [
    "## XGBoost"
   ]
  },
  {
   "cell_type": "code",
   "execution_count": null,
   "id": "4bc28140",
   "metadata": {},
   "outputs": [],
   "source": [
    "def xgboost(X_train, y_train, X_test, y_test):\n",
    "    # kreiranje objekta modela XGBoost\n",
    "    xgb_model = xgb.XGBClassifier()\n",
    "\n",
    "    # treniranje modela\n",
    "    xgb_model.fit(X_train, y_train)\n",
    "\n",
    "    # evaluacija modela\n",
    "    accuracy = xgb_model.score(X_test, y_test)\n",
    "    print(\"XGBoost accuracy:\", accuracy)\n",
    "    return xgb_model"
   ]
  },
  {
   "cell_type": "code",
   "execution_count": null,
   "id": "86cacd7a",
   "metadata": {},
   "outputs": [],
   "source": [
    "def optimize_hyperparameters(model, X_train, y_train, X_test, y_test):\n",
    "    # definisanje mreže hiperparametara koje želimo da isprobamo\n",
    "    param_grid = {'max_depth': [3, 4, 5],\n",
    "                  'learning_rate': [0.1, 0.01, 0.001],\n",
    "                  'n_estimators': [50, 100, 200]}\n",
    "#                   'subsample': [0.6, 0.8, 1.0],\n",
    "#                   'colsample_bytree': [0.6, 0.8, 1.0]}\n",
    "\n",
    "    # kreiranje objekta GridSearchCV\n",
    "    grid_search = GridSearchCV(xgb_model, param_grid=param_grid, cv=5)\n",
    "\n",
    "    # treniranje modela sa GridSearchCV objektom\n",
    "    grid_search.fit(X_train, y_train)\n",
    "\n",
    "    # evaluacija modela\n",
    "    accuracy = grid_search.score(X_test, y_test)\n",
    "    print('Optimizing hyperparameters:', accuracy)"
   ]
  },
  {
   "cell_type": "code",
   "execution_count": null,
   "id": "9ca06901",
   "metadata": {},
   "outputs": [],
   "source": [
    "xgb_model = xgboost(X_train_u, y_train_u, X_test_u, y_test_u)"
   ]
  },
  {
   "cell_type": "code",
   "execution_count": null,
   "id": "068d3952",
   "metadata": {},
   "outputs": [],
   "source": [
    "# optimize_hyperparameters(xgb_model, X_train_u, y_train_u, X_test_u, y_test_u)"
   ]
  },
  {
   "cell_type": "code",
   "execution_count": null,
   "id": "410c7861",
   "metadata": {},
   "outputs": [],
   "source": []
  }
 ],
 "metadata": {
  "kernelspec": {
   "display_name": "Python 3 (ipykernel)",
   "language": "python",
   "name": "python3"
  },
  "language_info": {
   "codemirror_mode": {
    "name": "ipython",
    "version": 3
   },
   "file_extension": ".py",
   "mimetype": "text/x-python",
   "name": "python",
   "nbconvert_exporter": "python",
   "pygments_lexer": "ipython3",
   "version": "3.9.2"
  }
 },
 "nbformat": 4,
 "nbformat_minor": 5
}
