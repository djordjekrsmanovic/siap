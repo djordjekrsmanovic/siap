{
 "cells": [
  {
   "cell_type": "markdown",
   "id": "94915194",
   "metadata": {},
   "source": [
    "# Algorithms"
   ]
  },
  {
   "cell_type": "code",
   "execution_count": 8,
   "id": "34d4f379",
   "metadata": {},
   "outputs": [],
   "source": [
    "import numpy as np\n",
    "from sklearn.neighbors import KNeighborsClassifier\n",
    "from sklearn.tree import DecisionTreeClassifier\n",
    "from sklearn import datasets\n",
    "from sklearn.model_selection import train_test_split\n",
    "import pandas as pd"
   ]
  },
  {
   "cell_type": "markdown",
   "id": "f543af86",
   "metadata": {},
   "source": [
    "### Ucitavanje pretprocesiranih podataka"
   ]
  },
  {
   "cell_type": "code",
   "execution_count": null,
   "id": "e0b48b62",
   "metadata": {},
   "outputs": [],
   "source": [
    "df = "
   ]
  },
  {
   "cell_type": "code",
   "execution_count": null,
   "id": "424ba3eb",
   "metadata": {},
   "outputs": [],
   "source": [
    "def dataset_partitioning(X_balanced, y_balanced):\n",
    "    X_train, X_test, y_train, y_test = train_test_split(X_balanced, y_balanced, test_size=0.111, random_state=42, stratify=y_balanced)\n",
    "    X_train, X_val, y_train, y_val = train_test_split(X_train, y_train, test_size=0.1, random_state=42, stratify=y_train)\n",
    "\n",
    "    print('Broj ciljnih vrednosti \\'closed\\' u trening skupu:', np.sum(y_train==0))\n",
    "    print('Broj ciljnih vrednosti \\'closed\\' u test skupu:', np.sum(y_test==0))\n",
    "    print('Broj ciljnih vrednosti \\'closed\\' u validacionom skupu:', np.sum(y_val==0))\n",
    "    return X_train, y_train, X_test, y_test, X_val, y_val"
   ]
  },
  {
   "cell_type": "markdown",
   "id": "4fee5b2c",
   "metadata": {},
   "source": [
    "## Random Forest "
   ]
  },
  {
   "cell_type": "code",
   "execution_count": 4,
   "id": "4b326364",
   "metadata": {},
   "outputs": [],
   "source": [
    "def random_forest(X_train, y_train, X_test, y_test, n_estimator): # Kreiraj instancu Random Forest klasifikatora sa 10 stabala\n",
    "    rfc = RandomForestClassifier(n_estimators=n_estimator)\n",
    "\n",
    "    # Obuči model na X_train i y_train podacima\n",
    "    rfc.fit(X_train, y_train)\n",
    "\n",
    "    # Predvidi klase za X_train i X_test podatke\n",
    "    y_train_pred = rfc.predict(X_train)\n",
    "    y_test_pred = rfc.predict(X_test)\n",
    "\n",
    "    # Izračunaj tačnost modela\n",
    "    train_accuracy = accuracy_score(y_train, y_train_pred)\n",
    "    test_accuracy = accuracy_score(y_test, y_test_pred)\n",
    "\n",
    "    print(\"Train Accuracy:\", train_accuracy)\n",
    "    print(\"Test Accuracy:\", test_accuracy)\n",
    "    print(y_test_pred)\n",
    "    return y_test_pred"
   ]
  },
  {
   "cell_type": "markdown",
   "id": "4c34e133",
   "metadata": {},
   "source": [
    "## Linearna regresija (TODO: nije na spisku - obrisati?)"
   ]
  },
  {
   "cell_type": "code",
   "execution_count": 5,
   "id": "46fdb5a0",
   "metadata": {},
   "outputs": [],
   "source": [
    "def linear_regression(X_train, y_train, X_test, y_test):\n",
    "    reg = LinearRegression()\n",
    "\n",
    "    # Obuči model na trening podacima\n",
    "    reg.fit(X_train, y_train)\n",
    "\n",
    "    # Predvidi vrednosti za test podatke\n",
    "    y_pred = reg.predict(X_test)\n",
    "\n",
    "    # Izračunaj srednju kvadratnu grešku\n",
    "    mse = mean_squared_error(y_test, y_pred)\n",
    "\n",
    "    # Prikaz rezultata\n",
    "    print(\"Koeficijenti regresije:\", reg.coef_)\n",
    "    print(\"Intercept:\", reg.intercept_)\n",
    "    print(\"Srednja kvadratna greška:\", mse)\n",
    "    print(y_pred)\n",
    "    return y_pred"
   ]
  },
  {
   "cell_type": "markdown",
   "id": "21abd190",
   "metadata": {},
   "source": [
    "## Logisticka regresija"
   ]
  },
  {
   "cell_type": "code",
   "execution_count": 6,
   "id": "603eedcd",
   "metadata": {},
   "outputs": [],
   "source": [
    "def logistic_regression(X, y, learning_rate, num_iterations):\n",
    "    # Inicijaliziraj težine i pristranosti na nulu\n",
    "    weights = np.zeros(X.shape[1])\n",
    "    bias = 0\n",
    "\n",
    "    # broj uzoraka\n",
    "    m = X.shape[0]\n",
    "\n",
    "    # Prolazak kroz broj iteracija\n",
    "    for i in range(num_iterations):\n",
    "        # Izračunaj linearnu funkciju\n",
    "        linear_function = np.dot(X, weights) + bias\n",
    "\n",
    "        # Izračunaj sigmoidnu funkciju\n",
    "        y_predicted = 1 / (1 + np.exp(-linear_function))\n",
    "\n",
    "        # Izračunaj gradijent\n",
    "        dw = (1 / m) * np.dot(X.T, (y_predicted - y))\n",
    "        db = (1 / m) * np.sum(y_predicted - y)\n",
    "\n",
    "        # Ažuriraj težine i pristranost\n",
    "        weights = weights - learning_rate * dw\n",
    "        bias = bias - learning_rate * db\n",
    "\n",
    "    # Vrati težine i pristranost\n",
    "    parameters = {\"weights\": weights, \"bias\": bias}\n",
    "    return parameters"
   ]
  },
  {
   "cell_type": "markdown",
   "id": "7b6a7fb5",
   "metadata": {},
   "source": [
    "## K-Nearest Neighbour"
   ]
  },
  {
   "cell_type": "code",
   "execution_count": 9,
   "id": "33037b07",
   "metadata": {},
   "outputs": [
    {
     "name": "stdout",
     "output_type": "stream",
     "text": [
      "Preciznost KNN klasifikatora je: 1.0\n"
     ]
    }
   ],
   "source": [
    "# Kreiranje KNN klasifikatora\n",
    "k = 5\n",
    "knn_classifier = KNeighborsClassifier(n_neighbors=k)\n",
    "\n",
    "# Podaci za treniranje: TODO izmeniti\n",
    "X_train = np.array([[1, 2], [1, 4], [2, 2], [2, 4], [3, 2], [3, 4]])\n",
    "y_train = np.array([0, 0, 0, 1, 1, 1])\n",
    "\n",
    "# Treniranje klasifikatora\n",
    "knn_classifier.fit(X_train, y_train)\n",
    "\n",
    "# Podaci za testiranje\n",
    "X_test = np.array([[1, 3], [2, 3], [3, 3]])\n",
    "y_test = np.array([0, 0, 1])\n",
    "\n",
    "# Predviđanje klasa\n",
    "y_pred = knn_classifier.predict(X_test)\n",
    "\n",
    "# Izračunavanje preciznosti\n",
    "accuracy = np.mean(y_pred == y_test)\n",
    "print(\"Preciznost KNN klasifikatora je:\", accuracy)"
   ]
  },
  {
   "cell_type": "markdown",
   "id": "a46c6ebb",
   "metadata": {},
   "source": [
    "## Decision tree"
   ]
  },
  {
   "cell_type": "code",
   "execution_count": null,
   "id": "ba36cfa1",
   "metadata": {},
   "outputs": [],
   "source": [
    "# Učitavanje Iris dataset-a\n",
    "iris = datasets.load_iris()\n",
    "X = iris.data\n",
    "y = iris.target\n",
    "\n",
    "\n",
    "# Kreiranje klasifikatora stabla odlučivanja\n",
    "dt_classifier = DecisionTreeClassifier(random_state=1)\n",
    "\n",
    "# Treniranje klasifikatora\n",
    "dt_classifier.fit(X_train, y_train)\n",
    "\n"
   ]
  }
 ],
 "metadata": {
  "kernelspec": {
   "display_name": "Python 3 (ipykernel)",
   "language": "python",
   "name": "python3"
  },
  "language_info": {
   "codemirror_mode": {
    "name": "ipython",
    "version": 3
   },
   "file_extension": ".py",
   "mimetype": "text/x-python",
   "name": "python",
   "nbconvert_exporter": "python",
   "pygments_lexer": "ipython3",
   "version": "3.9.2"
  }
 },
 "nbformat": 4,
 "nbformat_minor": 5
}
