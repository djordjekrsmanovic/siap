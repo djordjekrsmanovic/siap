{
 "cells": [
  {
   "cell_type": "markdown",
   "id": "94915194",
   "metadata": {},
   "source": [
    "# Algorithms"
   ]
  },
  {
   "cell_type": "code",
   "execution_count": 1,
   "id": "34d4f379",
   "metadata": {},
   "outputs": [],
   "source": [
    "import numpy as np\n",
    "from sklearn.ensemble import RandomForestClassifier\n",
    "from sklearn.metrics import accuracy_score\n",
    "from sklearn.metrics import precision_score, recall_score, f1_score\n",
    "from sklearn.linear_model import LinearRegression\n",
    "from sklearn.metrics import mean_squared_error\n",
    "from sklearn.neighbors import KNeighborsClassifier\n",
    "from sklearn.tree import DecisionTreeClassifier\n",
    "from sklearn import datasets\n",
    "from sklearn.model_selection import train_test_split\n",
    "import pandas as pd\n",
    "from sklearn.tree import DecisionTreeClassifier\n",
    "from sklearn.neighbors import KNeighborsClassifier\n",
    "from sklearn.linear_model import LogisticRegression\n",
    "from sklearn.ensemble import BaggingClassifier\n",
    "from sklearn.tree import DecisionTreeClassifier\n",
    "from sklearn.ensemble import BaggingClassifier\n",
    "import xgboost as xgb\n",
    "from sklearn.model_selection import GridSearchCV"
   ]
  },
  {
   "cell_type": "markdown",
   "id": "108f9024",
   "metadata": {},
   "source": [
    "### Ucitavanje pretprocesiranih podataka"
   ]
  },
  {
   "cell_type": "code",
   "execution_count": 2,
   "id": "98c22f1b",
   "metadata": {},
   "outputs": [],
   "source": [
    "def dataset_partitioning(X_balanced, y_balanced):\n",
    "    X_train, X_test, y_train, y_test = train_test_split(X_balanced, y_balanced, test_size=0.111, random_state=42, stratify=y_balanced)\n",
    "    X_train, X_val, y_train, y_val = train_test_split(X_train, y_train, test_size=0.1, random_state=42, stratify=y_train)\n",
    "\n",
    "    print('Broj ciljnih vrednosti \\'closed\\' u trening skupu:', np.sum(y_train==0))\n",
    "    print('Broj ciljnih vrednosti \\'closed\\' u test skupu:', np.sum(y_test==0))\n",
    "    print('Broj ciljnih vrednosti \\'closed\\' u validacionom skupu:', np.sum(y_val==0))\n",
    "    return X_train, y_train, X_test, y_test, X_val, y_val"
   ]
  },
  {
   "cell_type": "code",
   "execution_count": 3,
   "id": "0cd63c3a",
   "metadata": {},
   "outputs": [],
   "source": [
    "X_oversampling = pd.read_csv('oversampling_x.csv')\n",
    "y_oversampling = pd.read_csv('oversampling_y.csv')\n",
    "y_oversampling = y_oversampling.values.reshape(-1)"
   ]
  },
  {
   "cell_type": "code",
   "execution_count": 4,
   "id": "a45a3f4b",
   "metadata": {},
   "outputs": [
    {
     "name": "stdout",
     "output_type": "stream",
     "text": [
      "Broj ciljnih vrednosti 'closed' u trening skupu: 18591\n",
      "Broj ciljnih vrednosti 'closed' u test skupu: 2580\n",
      "Broj ciljnih vrednosti 'closed' u validacionom skupu: 2066\n"
     ]
    }
   ],
   "source": [
    "X_train_o, y_train_o, X_test_o, y_test_o, X_val_o, y_val_o = dataset_partitioning(X_oversampling, y_oversampling)"
   ]
  },
  {
   "cell_type": "code",
   "execution_count": 27,
   "id": "312103d5",
   "metadata": {},
   "outputs": [],
   "source": [
    "X_undersampling = pd.read_csv('undersampling_x.csv')\n",
    "y_undersampling = pd.read_csv('undersampling_y.csv')\n",
    "y_undersampling = y_undersampling.values.reshape(-1)"
   ]
  },
  {
   "cell_type": "code",
   "execution_count": 28,
   "id": "e6055f2c",
   "metadata": {},
   "outputs": [
    {
     "name": "stdout",
     "output_type": "stream",
     "text": [
      "Broj ciljnih vrednosti 'closed' u trening skupu: 443\n",
      "Broj ciljnih vrednosti 'closed' u test skupu: 62\n",
      "Broj ciljnih vrednosti 'closed' u validacionom skupu: 49\n"
     ]
    }
   ],
   "source": [
    "X_train_u, y_train_u, X_test_u, y_test_u, X_val_u, y_val_u = dataset_partitioning(X_undersampling, y_undersampling)"
   ]
  },
  {
   "cell_type": "markdown",
   "id": "f119f61c",
   "metadata": {},
   "source": [
    "## Precision, recall i F1 mera: za manjinsku klasu i ceo dataset"
   ]
  },
  {
   "cell_type": "code",
   "execution_count": 29,
   "id": "6a881b10",
   "metadata": {},
   "outputs": [],
   "source": [
    "def get_precision_recall_f1score_for_minority_class(y_test, y_test_pred):\n",
    "    # Izvlacenje **manjiske klase**\n",
    "    y_test1 = np.array(y_test)\n",
    "    y_test_pred1 = np.array(y_test_pred)\n",
    "\n",
    "    # Izdvajanje indeksa gde se nalaze vrednosti 0 u y_test\n",
    "    idx = np.where(y_test1 == 0)[0]\n",
    "\n",
    "    # Izdvajanje samo vrednosti 0 iz y_test i y_test_pred pomocu indeksa\n",
    "    y_test1 = y_test1[idx]\n",
    "    y_test_pred1 = y_test_pred1[idx]\n",
    "\n",
    "    precision = precision_score(y_test1, y_test_pred1, pos_label=0)\n",
    "    recall = recall_score(y_test1, y_test_pred1, pos_label=0)\n",
    "    f1 = f1_score(y_test1, y_test_pred1, pos_label=0)\n",
    "\n",
    "    print(\"Precision: \", precision)\n",
    "    print(\"Recall: \", recall)\n",
    "    print(\"F1-score: \", f1)"
   ]
  },
  {
   "cell_type": "code",
   "execution_count": 30,
   "id": "e01ec0d0",
   "metadata": {},
   "outputs": [],
   "source": [
    "def get_precision_recall_f1score(y_test, y_test_pred):\n",
    "    precision = precision_score(y_test, y_test_pred)\n",
    "    recall = recall_score(y_test, y_test_pred)\n",
    "    f1 = f1_score(y_test, y_test_pred)\n",
    "\n",
    "    print(\"Precision: \", precision)\n",
    "    print(\"Recall: \", recall)\n",
    "    print(\"F1-score: \", f1)"
   ]
  },
  {
   "cell_type": "markdown",
   "id": "4fee5b2c",
   "metadata": {},
   "source": [
    "## Random Forest "
   ]
  },
  {
   "cell_type": "code",
   "execution_count": 31,
   "id": "4b326364",
   "metadata": {},
   "outputs": [],
   "source": [
    "# Kreiraj instancu Random Forest klasifikatora sa 10 stabala\n",
    "def random_forest(X_train, y_train, X_test, y_test, n_estimator): \n",
    "    rfc = RandomForestClassifier(n_estimators=n_estimator)\n",
    "\n",
    "    # Obuči model na X_train i y_train podacima\n",
    "    rfc.fit(X_train, y_train)\n",
    "\n",
    "    # Predvidi klase za X_train i X_test podatke\n",
    "    y_train_pred = rfc.predict(X_train)\n",
    "    y_test_pred = rfc.predict(X_test)\n",
    "\n",
    "    # Izračunaj tačnost modela\n",
    "    train_accuracy = accuracy_score(y_train, y_train_pred)\n",
    "    test_accuracy = accuracy_score(y_test, y_test_pred)\n",
    "\n",
    "    print(\"Train Accuracy:\", train_accuracy)\n",
    "    print(\"Test Accuracy:\", test_accuracy)\n",
    "#     print(y_test_pred)\n",
    "    return y_test_pred"
   ]
  },
  {
   "cell_type": "code",
   "execution_count": 32,
   "id": "4d6a9255",
   "metadata": {},
   "outputs": [
    {
     "name": "stdout",
     "output_type": "stream",
     "text": [
      "Train Accuracy: 0.9593679458239278\n",
      "Test Accuracy: 0.7967479674796748\n",
      "\n",
      "*** Precision recall i f1 mera nad celim skupom ***\n",
      "Precision:  0.8214285714285714\n",
      "Recall:  0.7540983606557377\n",
      "F1-score:  0.7863247863247863\n",
      "\n",
      "*** Precision recall i f1 mera nad manjinskoj klasi ***\n",
      "Precision:  1.0\n",
      "Recall:  0.8387096774193549\n",
      "F1-score:  0.9122807017543859\n"
     ]
    }
   ],
   "source": [
    "# Random Forest - undersampling\n",
    "y_rnd_forest_u_pred = random_forest(X_train_u, y_train_u, X_test_u, y_test_u, 10)\n",
    "print(\"\\n*** Precision recall i f1 mera nad celim skupom ***\")\n",
    "get_precision_recall_f1score(y_test_u, y_rnd_forest_u_pred)\n",
    "print(\"\\n*** Precision recall i f1 mera nad manjinskoj klasi ***\")\n",
    "get_precision_recall_f1score_for_minority_class(y_test_u, y_rnd_forest_u_pred)"
   ]
  },
  {
   "cell_type": "code",
   "execution_count": 48,
   "id": "c880885a",
   "metadata": {},
   "outputs": [
    {
     "name": "stdout",
     "output_type": "stream",
     "text": [
      "Train Accuracy: 0.9899954280181803\n",
      "Test Accuracy: 0.9728629579375848\n",
      "\n",
      "*** Precision recall i f1 mera nad celim skupom ***\n",
      "Precision:  0.9765533411488863\n",
      "Recall:  0.9689802248933695\n",
      "F1-score:  0.9727520435967302\n",
      "\n",
      "*** Precision recall i f1 mera nad manjinskoj klasi ***\n",
      "Precision:  1.0\n",
      "Recall:  0.9767441860465116\n",
      "F1-score:  0.988235294117647\n"
     ]
    }
   ],
   "source": [
    "# Random Forest - oversampling\n",
    "y_rnd_forest_o_pred = random_forest(X_train_o, y_train_o, X_test_o, y_test_o, 10)\n",
    "print(\"\\n*** Precision recall i f1 mera nad celim skupom ***\")\n",
    "get_precision_recall_f1score(y_test_o, y_rnd_forest_o_pred)\n",
    "print(\"\\n*** Precision recall i f1 mera nad manjinskoj klasi ***\")\n",
    "get_precision_recall_f1score_for_minority_class(y_test_o, y_rnd_forest_o_pred)"
   ]
  },
  {
   "cell_type": "markdown",
   "id": "4c34e133",
   "metadata": {},
   "source": [
    "## Linearna regresija (TODO: nije na spisku - obrisati?)"
   ]
  },
  {
   "cell_type": "code",
   "execution_count": 33,
   "id": "46fdb5a0",
   "metadata": {},
   "outputs": [],
   "source": [
    "def linear_regression(X_train, y_train, X_test, y_test):\n",
    "    reg = LinearRegression()\n",
    "\n",
    "    # Obuči model na trening podacima\n",
    "    reg.fit(X_train, y_train)\n",
    "\n",
    "    # Predvidi vrednosti za test podatke\n",
    "    y_pred = reg.predict(X_test)\n",
    "\n",
    "    # Izračunaj srednju kvadratnu grešku\n",
    "    mse = mean_squared_error(y_test, y_pred)\n",
    "\n",
    "    # Prikaz rezultata\n",
    "#     print(\"Koeficijenti regresije:\", reg.coef_)\n",
    "#     print(\"Intercept:\", reg.intercept_)\n",
    "    print(\"Linear regression accuracy:\", mse)"
   ]
  },
  {
   "cell_type": "code",
   "execution_count": 34,
   "id": "bb5622d9",
   "metadata": {},
   "outputs": [
    {
     "name": "stdout",
     "output_type": "stream",
     "text": [
      "Linear regression accuracy: 0.17895286652193892\n"
     ]
    }
   ],
   "source": [
    "linear_regression(X_train_u, y_train_u, X_test_u, y_test_u)"
   ]
  },
  {
   "cell_type": "code",
   "execution_count": 49,
   "id": "12ccc3df",
   "metadata": {},
   "outputs": [
    {
     "name": "stdout",
     "output_type": "stream",
     "text": [
      "Linear regression accuracy: 0.0727173774451587\n"
     ]
    }
   ],
   "source": [
    "linear_regression(X_train_o, y_train_o, X_test_o, y_test_o)"
   ]
  },
  {
   "cell_type": "markdown",
   "id": "21abd190",
   "metadata": {},
   "source": [
    "## Logisticka regresija"
   ]
  },
  {
   "cell_type": "code",
   "execution_count": 35,
   "id": "603eedcd",
   "metadata": {},
   "outputs": [],
   "source": [
    "def logistic_regression(X_train, y_train, X_test, y_test):\n",
    "    # kreiranje objekta modela logističke regresije\n",
    "    lr_model = LogisticRegression()\n",
    "\n",
    "    # učenje modela na trening skupu podataka\n",
    "    lr_model.fit(X_train, y_train)\n",
    "\n",
    "    # predviđanje izlaza za test skup podataka\n",
    "    y_pred = lr_model.predict(X_test)\n",
    "\n",
    "    # izračunavanje tačnosti modela\n",
    "    accuracy = lr_model.score(X_test, y_test)\n",
    "\n",
    "    # ispisivanje tačnosti\n",
    "    print(\"Logistic regression accuracy:\", accuracy)"
   ]
  },
  {
   "cell_type": "code",
   "execution_count": 36,
   "id": "0bc1a485",
   "metadata": {},
   "outputs": [
    {
     "name": "stdout",
     "output_type": "stream",
     "text": [
      "Logistic regression accuracy: 0.36585365853658536\n"
     ]
    }
   ],
   "source": [
    "logistic_regression(X_train_u, y_train_u, X_test_u, y_test_u)"
   ]
  },
  {
   "cell_type": "code",
   "execution_count": 50,
   "id": "f48e0124",
   "metadata": {},
   "outputs": [
    {
     "name": "stdout",
     "output_type": "stream",
     "text": [
      "Logistic regression accuracy: 0.4956386896685404\n"
     ]
    }
   ],
   "source": [
    "logistic_regression(X_train_o, y_train_o, X_test_o, y_test_o)"
   ]
  },
  {
   "cell_type": "markdown",
   "id": "7b6a7fb5",
   "metadata": {},
   "source": [
    "## K-Nearest Neighbour"
   ]
  },
  {
   "cell_type": "code",
   "execution_count": 37,
   "id": "33037b07",
   "metadata": {},
   "outputs": [],
   "source": [
    "def knn(X_train, y_train, X_test, y_test, n_neighbors=5):\n",
    "    # Inicijalizacija klasifikatora k-najbližih suseda\n",
    "    knn_model = KNeighborsClassifier(n_neighbors=n_neighbors)\n",
    "    \n",
    "    # Treniranje klasifikatora k-najbližih suseda na trening skupu podataka\n",
    "    knn_model.fit(X_train, y_train)\n",
    "    \n",
    "    # Predviđanje ciljnih vrednosti na test skupu podataka\n",
    "    y_pred = knn_model.predict(X_test)\n",
    "    \n",
    "    # Izračunavanje tačnosti predikcije\n",
    "    accuracy = accuracy_score(y_test, y_pred)\n",
    "    print(\"KNN accuracy: \", accuracy)"
   ]
  },
  {
   "cell_type": "code",
   "execution_count": 38,
   "id": "8d410a7f",
   "metadata": {},
   "outputs": [
    {
     "name": "stdout",
     "output_type": "stream",
     "text": [
      "KNN accuracy:  0.6747967479674797\n",
      "KNN accuracy:  0.6747967479674797\n"
     ]
    }
   ],
   "source": [
    "knn(X_train_u, y_train_u, X_test_u, y_test_u)\n",
    "knn(X_train_u, y_train_u, X_test_u, y_test_u, 3) "
   ]
  },
  {
   "cell_type": "code",
   "execution_count": 51,
   "id": "0469898c",
   "metadata": {},
   "outputs": [
    {
     "name": "stdout",
     "output_type": "stream",
     "text": [
      "KNN accuracy:  0.8648962977321186\n",
      "KNN accuracy:  0.8720682302771855\n"
     ]
    }
   ],
   "source": [
    "knn(X_train_o, y_train_o, X_test_o, y_test_o)\n",
    "knn(X_train_o, y_train_o, X_test_o, y_test_o, 3)"
   ]
  },
  {
   "cell_type": "markdown",
   "id": "a46c6ebb",
   "metadata": {},
   "source": [
    "## Decision tree"
   ]
  },
  {
   "cell_type": "code",
   "execution_count": 55,
   "id": "ba36cfa1",
   "metadata": {},
   "outputs": [],
   "source": [
    "def decision_tree(X_train, y_train, X_test, y_test, max_depth=None, min_samples_split=2):\n",
    "    # Inicijalizacija klasifikatora odlučivanja\n",
    "    dtc = DecisionTreeClassifier(max_depth=max_depth, min_samples_split=min_samples_split)\n",
    "    \n",
    "    # Treniranje klasifikatora odlučivanja na trening skupu podataka\n",
    "    dtc.fit(X_train, y_train)\n",
    "    \n",
    "    # Predviđanje ciljnih vrednosti na test skupu podataka\n",
    "    y_pred = dtc.predict(X_test)\n",
    "    \n",
    "    # Izračunavanje tačnosti predikcije\n",
    "    accuracy = accuracy_score(y_test, y_pred)\n",
    "    print(\"Decision tree accuracy: \", accuracy)"
   ]
  },
  {
   "cell_type": "code",
   "execution_count": 58,
   "id": "aaae58c8",
   "metadata": {},
   "outputs": [
    {
     "name": "stdout",
     "output_type": "stream",
     "text": [
      "Decision tree accuracy:  0.7967479674796748\n"
     ]
    }
   ],
   "source": [
    "decision_tree(X_train_u, y_train_u, X_test_u, y_test_u)"
   ]
  },
  {
   "cell_type": "code",
   "execution_count": 60,
   "id": "a91b2b36",
   "metadata": {},
   "outputs": [
    {
     "name": "stdout",
     "output_type": "stream",
     "text": [
      "Decision tree accuracy:  0.9687924016282226\n"
     ]
    }
   ],
   "source": [
    "decision_tree(X_train_o, y_train_o, X_test_o, y_test_o) # !!"
   ]
  },
  {
   "cell_type": "markdown",
   "id": "c45e637c",
   "metadata": {},
   "source": [
    "## Bagging "
   ]
  },
  {
   "cell_type": "code",
   "execution_count": 41,
   "id": "8a5999f5",
   "metadata": {},
   "outputs": [],
   "source": [
    "def bagging(X_train, y_train, X_test, y_test):\n",
    "    # kreiranje objekta baznog modela - odlučivanje drveta (Decision Tree)\n",
    "    base_model = DecisionTreeClassifier()\n",
    "\n",
    "    # kreiranje objekta modela Bagging\n",
    "    bagging_model = BaggingClassifier(estimator=base_model, n_estimators=10, random_state=42)\n",
    "\n",
    "    # treniranje modela\n",
    "    bagging_model.fit(X_train, y_train)\n",
    "\n",
    "    # evaluacija modela\n",
    "    accuracy = bagging_model.score(X_test, y_test)\n",
    "    print(\"Bagging accuracy:\", accuracy)"
   ]
  },
  {
   "cell_type": "code",
   "execution_count": 42,
   "id": "f240f9a1",
   "metadata": {},
   "outputs": [
    {
     "name": "stdout",
     "output_type": "stream",
     "text": [
      "Bagging accuracy: 0.7967479674796748\n"
     ]
    }
   ],
   "source": [
    "bagging(X_train_u, y_train_u, X_test_u, y_test_u)"
   ]
  },
  {
   "cell_type": "code",
   "execution_count": 53,
   "id": "83632c56",
   "metadata": {},
   "outputs": [
    {
     "name": "stdout",
     "output_type": "stream",
     "text": [
      "Bagging accuracy: 0.9722814498933902\n"
     ]
    }
   ],
   "source": [
    "bagging(X_train_o, y_train_o, X_test_o, y_test_o)"
   ]
  },
  {
   "cell_type": "markdown",
   "id": "a42a364e",
   "metadata": {},
   "source": [
    "## XGBoost"
   ]
  },
  {
   "cell_type": "code",
   "execution_count": 43,
   "id": "eb2b7f49",
   "metadata": {},
   "outputs": [],
   "source": [
    "def xgboost(X_train, y_train, X_test, y_test):\n",
    "    # kreiranje objekta modela XGBoost\n",
    "    xgb_model = xgb.XGBClassifier()\n",
    "\n",
    "    # treniranje modela\n",
    "    xgb_model.fit(X_train, y_train)\n",
    "\n",
    "    # evaluacija modela\n",
    "    accuracy = xgb_model.score(X_test, y_test)\n",
    "    print(\"XGBoost accuracy:\", accuracy)\n",
    "    return xgb_model"
   ]
  },
  {
   "cell_type": "code",
   "execution_count": 44,
   "id": "e86bed89",
   "metadata": {},
   "outputs": [],
   "source": [
    "def optimize_hyperparameters(model, X_train, y_train, X_test, y_test):\n",
    "    #TODO: optimizovati\n",
    "    # definisanje mreže hiperparametara koje želimo da isprobamo\n",
    "    param_grid = {'max_depth': [3, 4, 5],\n",
    "                  'learning_rate': [0.1, 0.01, 0.001],\n",
    "                  'n_estimators': [50, 100, 200]}\n",
    "                # 'subsample': [0.6, 0.8, 1.0],\n",
    "                # 'colsample_bytree': [0.6, 0.8, 1.0]}\n",
    "\n",
    "    # kreiranje objekta GridSearchCV\n",
    "    grid_search = GridSearchCV(xgb_model, param_grid=param_grid, cv=5)\n",
    "\n",
    "    # treniranje modela sa GridSearchCV objektom\n",
    "    grid_search.fit(X_train, y_train)\n",
    "\n",
    "    # evaluacija modela\n",
    "    accuracy = grid_search.score(X_test, y_test)\n",
    "    print('Optimizing hyperparameters:', accuracy)"
   ]
  },
  {
   "cell_type": "code",
   "execution_count": 45,
   "id": "62d36b15",
   "metadata": {},
   "outputs": [
    {
     "name": "stdout",
     "output_type": "stream",
     "text": [
      "XGBoost accuracy: 0.8048780487804879\n"
     ]
    }
   ],
   "source": [
    "xgb_model = xgboost(X_train_u, y_train_u, X_test_u, y_test_u)"
   ]
  },
  {
   "cell_type": "code",
   "execution_count": 54,
   "id": "65d4beac",
   "metadata": {},
   "outputs": [
    {
     "name": "stdout",
     "output_type": "stream",
     "text": [
      "XGBoost accuracy: 0.9720876138786586\n"
     ]
    }
   ],
   "source": [
    "xgb_model_o = xgboost(X_train_o, y_train_o, X_test_o, y_test_o)"
   ]
  },
  {
   "cell_type": "code",
   "execution_count": 46,
   "id": "f0fe3fec",
   "metadata": {},
   "outputs": [],
   "source": [
    "# optimize_hyperparameters(xgb_model, X_train_u, y_train_u, X_test_u, y_test_u)"
   ]
  },
  {
   "cell_type": "code",
   "execution_count": null,
   "id": "f28a5e71",
   "metadata": {},
   "outputs": [],
   "source": []
  }
 ],
 "metadata": {
  "kernelspec": {
   "display_name": "Python 3 (ipykernel)",
   "language": "python",
   "name": "python3"
  },
  "language_info": {
   "codemirror_mode": {
    "name": "ipython",
    "version": 3
   },
   "file_extension": ".py",
   "mimetype": "text/x-python",
   "name": "python",
   "nbconvert_exporter": "python",
   "pygments_lexer": "ipython3",
   "version": "3.9.2"
  }
 },
 "nbformat": 4,
 "nbformat_minor": 5
}
