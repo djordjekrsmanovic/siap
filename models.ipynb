{
 "cells": [
  {
   "cell_type": "markdown",
   "id": "94915194",
   "metadata": {},
   "source": [
    "# Algorithms"
   ]
  },
  {
   "cell_type": "code",
   "execution_count": 1,
   "id": "34d4f379",
   "metadata": {},
   "outputs": [],
   "source": [
    "import numpy as np\n",
    "from sklearn.ensemble import RandomForestClassifier\n",
    "from sklearn.metrics import accuracy_score\n",
    "from sklearn.metrics import precision_score, recall_score, f1_score\n",
    "from sklearn.linear_model import LinearRegression\n",
    "from sklearn.metrics import mean_squared_error\n",
    "from sklearn.neighbors import KNeighborsClassifier\n",
    "from sklearn.tree import DecisionTreeClassifier\n",
    "from sklearn import datasets\n",
    "from sklearn.model_selection import train_test_split\n",
    "import pandas as pd\n",
    "from sklearn.tree import DecisionTreeClassifier\n",
    "from sklearn.neighbors import KNeighborsClassifier\n",
    "from sklearn.linear_model import LogisticRegression\n",
    "from sklearn.ensemble import BaggingClassifier\n",
    "from sklearn.tree import DecisionTreeClassifier\n",
    "from sklearn.ensemble import BaggingClassifier\n",
    "import xgboost as xgb\n",
    "from sklearn.model_selection import GridSearchCV\n",
    "from sklearn.metrics import confusion_matrix\n",
    "import matplotlib.pyplot as plt\n",
    "import seaborn as sns\n",
    "import sys\n",
    "from tabulate import tabulate\n",
    "import warnings\n",
    "from sklearn.exceptions import ConvergenceWarning"
   ]
  },
  {
   "cell_type": "code",
   "execution_count": 2,
   "id": "3c2384bc",
   "metadata": {},
   "outputs": [],
   "source": [
    "warnings.filterwarnings(\"ignore\", message=\"`base_estimator` was renamed to `estimator` in version 1.2 and will be removed in 1.4.\")\n",
    "warnings.filterwarnings(\"ignore\", message=\"ConvergenceWarning: The max_iter was reached which means the coef_ did not converge\")\n",
    "warnings.filterwarnings(\"ignore\", category=FutureWarning)\n",
    "warnings.filterwarnings(\"ignore\", category=ConvergenceWarning)"
   ]
  },
  {
   "cell_type": "markdown",
   "id": "a8cb108c",
   "metadata": {},
   "source": [
    "### Ucitavanje pretprocesiranih podataka"
   ]
  },
  {
   "cell_type": "code",
   "execution_count": 3,
   "id": "14c2a279",
   "metadata": {},
   "outputs": [],
   "source": [
    "def dataset_partitioning(X_balanced, y_balanced):\n",
    "    X_train, X_test, y_train, y_test = train_test_split(X_balanced, y_balanced, test_size=0.111, random_state=42, stratify=y_balanced)\n",
    "    X_train, X_val, y_train, y_val = train_test_split(X_train, y_train, test_size=0.1, random_state=42, stratify=y_train)\n",
    "\n",
    "    print('Broj ciljnih vrednosti \\'closed\\' u trening skupu:', np.sum(y_train==0))\n",
    "    print('Broj ciljnih vrednosti \\'closed\\' u test skupu:', np.sum(y_test==0))\n",
    "    print('Broj ciljnih vrednosti \\'closed\\' u validacionom skupu:', np.sum(y_val==0))\n",
    "    return X_train, y_train, X_test, y_test, X_val, y_val"
   ]
  },
  {
   "cell_type": "code",
   "execution_count": 4,
   "id": "c6d5b76f",
   "metadata": {},
   "outputs": [],
   "source": [
    "X_oversampling = pd.read_csv('oversampling_x.csv')\n",
    "y_oversampling = pd.read_csv('oversampling_y.csv')\n",
    "y_oversampling = y_oversampling.values.reshape(-1)"
   ]
  },
  {
   "cell_type": "code",
   "execution_count": 5,
   "id": "38151241",
   "metadata": {},
   "outputs": [
    {
     "name": "stdout",
     "output_type": "stream",
     "text": [
      "Broj ciljnih vrednosti 'closed' u trening skupu: 12960\n",
      "Broj ciljnih vrednosti 'closed' u test skupu: 1799\n",
      "Broj ciljnih vrednosti 'closed' u validacionom skupu: 1440\n"
     ]
    }
   ],
   "source": [
    "X_train_o, y_train_o, X_test_o, y_test_o, X_val_o, y_val_o = dataset_partitioning(X_oversampling, y_oversampling)"
   ]
  },
  {
   "cell_type": "code",
   "execution_count": 6,
   "id": "e91c72de",
   "metadata": {},
   "outputs": [],
   "source": [
    "X_undersampling = pd.read_csv('undersampling_x.csv')\n",
    "y_undersampling = pd.read_csv('undersampling_y.csv')\n",
    "dfTarget = pd.concat([X_undersampling, y_undersampling], axis=1)\n",
    "dfTarget = dfTarget.rename(columns={0: 'status'})\n",
    "y_undersampling = y_undersampling.values.reshape(-1)"
   ]
  },
  {
   "cell_type": "code",
   "execution_count": 7,
   "id": "7c425fe6",
   "metadata": {},
   "outputs": [],
   "source": [
    "# X_undersampling"
   ]
  },
  {
   "cell_type": "code",
   "execution_count": 8,
   "id": "5f2cd80a",
   "metadata": {},
   "outputs": [],
   "source": [
    "# y_undersampling"
   ]
  },
  {
   "cell_type": "code",
   "execution_count": 9,
   "id": "848b201e",
   "metadata": {},
   "outputs": [],
   "source": [
    "# dfTarget"
   ]
  },
  {
   "cell_type": "code",
   "execution_count": 10,
   "id": "21c01187",
   "metadata": {},
   "outputs": [
    {
     "name": "stdout",
     "output_type": "stream",
     "text": [
      "Broj ciljnih vrednosti 'closed' u trening skupu: 355\n",
      "Broj ciljnih vrednosti 'closed' u test skupu: 50\n",
      "Broj ciljnih vrednosti 'closed' u validacionom skupu: 39\n"
     ]
    }
   ],
   "source": [
    "X_train_u, y_train_u, X_test_u, y_test_u, X_val_u, y_val_u = dataset_partitioning(X_undersampling, y_undersampling)"
   ]
  },
  {
   "cell_type": "markdown",
   "id": "dee8aa14",
   "metadata": {},
   "source": [
    "## Precision, recall i F1 mera: za manjinsku klasu i ceo dataset"
   ]
  },
  {
   "cell_type": "code",
   "execution_count": 11,
   "id": "f981a16a",
   "metadata": {},
   "outputs": [],
   "source": [
    "def get_precision_recall_f1score_for_minority_class(y_test, y_test_pred):\n",
    "    y_test1 = np.array(y_test)\n",
    "    y_test_pred1 = np.array(y_test_pred)\n",
    "\n",
    "    # Izdvajanje indeksa gde se nalaze vrednosti 0 u y_test\n",
    "    idx = np.where(y_test1 == 0)[0]\n",
    "\n",
    "    # Izdvajanje samo vrednosti 0 iz y_test i y_test_pred pomocu indeksa\n",
    "    y_test1 = y_test1[idx]\n",
    "    y_test_pred1 = y_test_pred1[idx]\n",
    "\n",
    "    precision = precision_score(y_test1, y_test_pred1, pos_label=0)\n",
    "    recall = recall_score(y_test1, y_test_pred1, pos_label=0)\n",
    "    f1 = f1_score(y_test1, y_test_pred1, pos_label=0)\n",
    "\n",
    "    print(\"Precision: \", precision)\n",
    "    print(\"Recall: \", recall)\n",
    "    print(\"F1-score: \", f1)\n",
    "    return precision, recall, f1"
   ]
  },
  {
   "cell_type": "code",
   "execution_count": 12,
   "id": "3aba8b96",
   "metadata": {},
   "outputs": [],
   "source": [
    "def get_precision_recall_f1score(y_test, y_test_pred):\n",
    "    precision = precision_score(y_test, y_test_pred)\n",
    "    recall = recall_score(y_test, y_test_pred)\n",
    "    f1 = f1_score(y_test, y_test_pred)\n",
    "\n",
    "    print(\"Precision: \", precision)\n",
    "    print(\"Recall: \", recall)\n",
    "    print(\"F1-score: \", f1)"
   ]
  },
  {
   "cell_type": "markdown",
   "id": "4fee5b2c",
   "metadata": {},
   "source": [
    "## Random Forest "
   ]
  },
  {
   "cell_type": "code",
   "execution_count": 13,
   "id": "4b326364",
   "metadata": {},
   "outputs": [],
   "source": [
    "def set_up_random_forest_parameters(X_train,y_train,X_validation,y_validation):\n",
    "    rfc = RandomForestClassifier()\n",
    "\n",
    "    # Definisanje grida hiperparametara\n",
    "    param_grid = {\n",
    "                  'max_depth': [10, 50, 100],\n",
    "                  'max_features': [2, 3],\n",
    "                  'min_samples_leaf': [3, 4, 5],\n",
    "                  'min_samples_split': [8, 10, 12],\n",
    "                  'n_estimators': [10, 100, 500, 1000]}\n",
    "    # Instanciranje GridSearchCV objekta\n",
    "    grid_search = GridSearchCV(estimator=rfc, param_grid=param_grid, cv=5)\n",
    "\n",
    "    # Obuka modela na trening skupu\n",
    "    grid_search.fit(X_train, y_train)\n",
    "\n",
    "    # Prikaz najboljih hiperparametara\n",
    "    print(\"Najbolji hiperparametri:\", grid_search.best_params_)\n",
    "\n",
    "    # Predviđanje na validacionom skupu\n",
    "    y_val_pred = grid_search.predict(X_validation)\n",
    "\n",
    "    # Izveštaj o performansama na validacionom skupu\n",
    "    print(\"Izveštaj o performansama:\")\n",
    "    print(accuracy_score(y_validation, y_val_pred))\n",
    "\n",
    "    return grid_search.best_params_\n",
    "\n",
    "def random_forest(X_train, y_train, X_test, y_test, params): \n",
    "    rfc = RandomForestClassifier(max_depth=params['max_depth']\n",
    "                                 ,max_features=params['max_features'],min_samples_leaf=params['min_samples_leaf']\n",
    "                                 ,min_samples_split=params['min_samples_split'],n_estimators=params['n_estimators'])\n",
    "\n",
    "\n",
    "    rfc.fit(X_train, y_train)\n",
    "\n",
    "    y_test_pred = rfc.predict(X_test)\n",
    "\n",
    "    accuracy = accuracy_score(y_test, y_test_pred)\n",
    "\n",
    "    print(\"Random Forest accuracy:\", accuracy)\n",
    "    return y_test_pred, accuracy"
   ]
  },
  {
   "cell_type": "code",
   "execution_count": null,
   "id": "eb06afbb",
   "metadata": {},
   "outputs": [],
   "source": [
    "best_params=set_up_random_forest_parameters(X_train_u,y_train_u,X_val_u, y_val_u)"
   ]
  },
  {
   "cell_type": "code",
   "execution_count": null,
   "id": "f2a28ec4",
   "metadata": {},
   "outputs": [],
   "source": [
    "# Random Forest - undersampling\n",
    "y_pred_rnd_forest_u, acc_rnd_forest_u = random_forest(X_train_u, y_train_u, X_test_u, y_test_u, best_params)\n",
    "print(\"\\nPrecision recall i f1 mera nad celim skupom: \")\n",
    "get_precision_recall_f1score(y_test_u, y_pred_rnd_forest_u)\n",
    "print(\"\\nPrecision recall i f1 mera nad manjinskoj klasi:\")\n",
    "precision_rnd_forest_u_minority, recall_rnd_forest_u_minority, f1_rnd_forest_u_minority = get_precision_recall_f1score_for_minority_class(y_test_u, y_pred_rnd_forest_u)"
   ]
  },
  {
   "cell_type": "code",
   "execution_count": null,
   "id": "bdcfce01",
   "metadata": {},
   "outputs": [],
   "source": [
    "# Random Forest - oversampling\n",
    "y_pred_rnd_forest_o, acc_rnd_forest_o = random_forest(X_train_o, y_train_o, X_test_o, y_test_o, best_params)\n",
    "print(\"\\nPrecision recall i f1 mera nad celim skupom:\")\n",
    "get_precision_recall_f1score(y_test_o, y_pred_rnd_forest_o)\n",
    "print(\"\\nPrecision recall i f1 mera nad manjinskoj klasi:\")\n",
    "precision_rnd_forest_o_minority, recall_rnd_forest_o_minority, f1_rnd_forest_o_minority = get_precision_recall_f1score_for_minority_class(y_test_o, y_pred_rnd_forest_o)"
   ]
  },
  {
   "cell_type": "markdown",
   "id": "4c34e133",
   "metadata": {},
   "source": [
    "## Linearna regresija (TODO: nije na spisku - obrisati?)"
   ]
  },
  {
   "cell_type": "code",
   "execution_count": null,
   "id": "46fdb5a0",
   "metadata": {},
   "outputs": [],
   "source": [
    "def linear_regression(X_train, y_train, X_test, y_test):\n",
    "    reg = LinearRegression()\n",
    "\n",
    "    reg.fit(X_train, y_train)\n",
    "\n",
    "    y_pred = reg.predict(X_test)\n",
    "\n",
    "    # racunanje srednje kvadratne greške\n",
    "    mse = mean_squared_error(y_test, y_pred)\n",
    "    \n",
    "    accuracy = reg.score(X_test, y_test)\n",
    "\n",
    "#     print(\"Koeficijenti regresije:\", reg.coef_)\n",
    "#     print(\"Intercept:\", reg.intercept_)\n",
    "    print(\"Linear regression mse:\", mse)\n",
    "    print(\"Linear regression accuracy:\", accuracy)\n",
    "    return y_pred"
   ]
  },
  {
   "cell_type": "code",
   "execution_count": null,
   "id": "e3639d24",
   "metadata": {},
   "outputs": [],
   "source": [
    "y_pred_lin_u = linear_regression(X_train_u, y_train_u, X_test_u, y_test_u)"
   ]
  },
  {
   "cell_type": "code",
   "execution_count": null,
   "id": "c25bc712",
   "metadata": {},
   "outputs": [],
   "source": [
    "y_pred_lin_o = linear_regression(X_train_o, y_train_o, X_test_o, y_test_o)"
   ]
  },
  {
   "cell_type": "markdown",
   "id": "21abd190",
   "metadata": {},
   "source": [
    "## Logisticka regresija"
   ]
  },
  {
   "cell_type": "code",
   "execution_count": null,
   "id": "603eedcd",
   "metadata": {},
   "outputs": [],
   "source": [
    "#parameters tunning\n",
    "def set_up_logistic_regression_parameters(X_train,y_train,X_validation,y_validation):\n",
    "    lr = LogisticRegression()\n",
    "    param_grid = {\n",
    "        'C': [100, 10, 1.0, 0.1, 0.01],\n",
    "        'solver': ['liblinear', 'newton-cg', 'newton-cholesky', 'sag', 'saga'],\n",
    "        'max_iter': [10,100,1000,10000]\n",
    "    }\n",
    "    \n",
    "    grid_search = GridSearchCV(estimator=lr, param_grid=param_grid, cv=5)\n",
    "\n",
    "    # Obuka modela na trening skupu\n",
    "    grid_search.fit(X_train, y_train)\n",
    "\n",
    "    print(\"Najbolji hiperparametri:\", grid_search.best_params_)\n",
    "\n",
    "    # Predviđanje na validacionom skupu\n",
    "    y_val_pred = grid_search.predict(X_validation)\n",
    "\n",
    "    print(\"Izveštaj o performansama:\")\n",
    "    print(accuracy_score(y_validation, y_val_pred))\n",
    "\n",
    "    return grid_search.best_params_\n",
    "\n",
    "def logistic_regression(X_train, y_train, X_test, y_test,params):\n",
    "    lr_model = LogisticRegression(C=params['C'],solver=params['solver'],max_iter=params['max_iter'])\n",
    "\n",
    "    lr_model.fit(X_train, y_train)\n",
    "\n",
    "    y_pred = lr_model.predict(X_test)\n",
    "\n",
    "    accuracy = lr_model.score(X_test, y_test)\n",
    "\n",
    "    print(\"Logistic regression accuracy:\", accuracy)\n",
    "    return y_pred, accuracy"
   ]
  },
  {
   "cell_type": "code",
   "execution_count": null,
   "id": "268484ed",
   "metadata": {},
   "outputs": [],
   "source": [
    "best_params=set_up_logistic_regression_parameters(X_train_u,y_train_u,X_val_u, y_val_u)"
   ]
  },
  {
   "cell_type": "code",
   "execution_count": null,
   "id": "0af65114",
   "metadata": {},
   "outputs": [],
   "source": [
    "y_pred_logistic_u, acc_logistic_u = logistic_regression(X_train_u, y_train_u, X_test_u, y_test_u,best_params)\n",
    "print(\"\\nPrecision recall i f1 mera nad celim skupom: \")\n",
    "get_precision_recall_f1score(y_test_u, y_pred_logistic_u)\n",
    "print(\"\\nPrecision recall i f1 mera nad manjinskoj klasi:\")\n",
    "precision_logistic_u_minority, recall_logistic_u_minority, f1_logistic_u_minority = get_precision_recall_f1score_for_minority_class(y_test_u, y_pred_logistic_u)"
   ]
  },
  {
   "cell_type": "code",
   "execution_count": null,
   "id": "0f543347",
   "metadata": {},
   "outputs": [],
   "source": [
    "y_pred_logistic_o, acc_logistic_o = logistic_regression(X_train_o, y_train_o, X_test_o, y_test_o,best_params)\n",
    "print(\"\\nPrecision recall i f1 mera nad celim skupom:\")\n",
    "get_precision_recall_f1score(y_test_o, y_pred_logistic_o)\n",
    "print(\"\\nPrecision recall i f1 mera nad manjinskoj klasi:\")\n",
    "precision_logistic_o_minority, recall_logistic_o_minority, f1_logistic_o_minority = get_precision_recall_f1score_for_minority_class(y_test_o, y_pred_logistic_o)"
   ]
  },
  {
   "cell_type": "markdown",
   "id": "7b6a7fb5",
   "metadata": {},
   "source": [
    "## K-Nearest Neighbour"
   ]
  },
  {
   "cell_type": "code",
   "execution_count": null,
   "id": "33037b07",
   "metadata": {},
   "outputs": [],
   "source": [
    "# parameters tunning\n",
    "def set_up_k_nearest_parameters(X_train,y_train,X_validation,y_validation):\n",
    "    knn = KNeighborsClassifier()\n",
    "    from scipy import stats\n",
    "\n",
    "    param_grid = {\n",
    "        'n_neighbors': [3, 5, 7, 9],\n",
    "        'weights': ['uniform', 'distance'],\n",
    "        'p': [1, 2],\n",
    "    }\n",
    "    \n",
    "    \n",
    "    grid_search = GridSearchCV(estimator=knn, param_grid=param_grid, cv=5)\n",
    "\n",
    "    # Obuka modela na trening skupu\n",
    "    grid_search.fit(X_train, y_train)\n",
    "\n",
    "    print(\"Najbolji hiperparametri:\", grid_search.best_params_)\n",
    "\n",
    "    # Predviđanje na validacionom skupu\n",
    "    y_val_pred = grid_search.predict(X_validation)\n",
    "\n",
    "    print(\"Izveštaj o performansama:\")\n",
    "    print(accuracy_score(y_validation, y_val_pred))\n",
    "\n",
    "    return grid_search.best_params_\n",
    "\n",
    "def knn(X_train, y_train, X_test, y_test, params):\n",
    "    knn_model = KNeighborsClassifier(n_neighbors=params['n_neighbors'],weights=params['weights'],\n",
    "                                     p=params['p'])\n",
    "    \n",
    "    knn_model.fit(X_train, y_train)\n",
    "    \n",
    "    y_pred = knn_model.predict(X_test)\n",
    "    \n",
    "    accuracy = accuracy_score(y_test, y_pred)\n",
    "    print(\"KNN accuracy: \", accuracy)\n",
    "    return y_pred, accuracy"
   ]
  },
  {
   "cell_type": "code",
   "execution_count": null,
   "id": "59234ee0",
   "metadata": {},
   "outputs": [],
   "source": [
    "best_params=set_up_k_nearest_parameters(X_train_u,y_train_u,X_val_u, y_val_u)"
   ]
  },
  {
   "cell_type": "code",
   "execution_count": null,
   "id": "8c4a5ae6",
   "metadata": {},
   "outputs": [],
   "source": [
    "y_pred_knn_u, acc_knn_u = knn(X_train_u, y_train_u, X_test_u, y_test_u,best_params)\n",
    "#y_pred_knn_u = knn(X_train_u, y_train_u, X_test_u, y_test_u, 3) \n",
    "print(\"\\nPrecision recall i f1 mera nad celim skupom: \")\n",
    "get_precision_recall_f1score(y_test_u, y_pred_knn_u)\n",
    "print(\"\\nPrecision recall i f1 mera nad manjinskoj klasi:\")\n",
    "precision_knn_u_minority, recall_knn_u_minority, f1_knn_u_minority = get_precision_recall_f1score_for_minority_class(y_test_u, y_pred_knn_u)"
   ]
  },
  {
   "cell_type": "code",
   "execution_count": null,
   "id": "c2a5d257",
   "metadata": {},
   "outputs": [],
   "source": [
    "# y_pred_knn_o =knn(X_train_o, y_train_o, X_test_o, y_test_o)\n",
    "y_pred_knn_o, acc_knn_o = knn(X_train_o, y_train_o, X_test_o, y_test_o, best_params)\n",
    "print(\"\\nPrecision recall i f1 mera nad celim skupom:\")\n",
    "get_precision_recall_f1score(y_test_o, y_pred_knn_o)\n",
    "print(\"\\nPrecision recall i f1 mera nad manjinskoj klasi:\")\n",
    "precision_knn_o_minority, recall_knn_o_minority, f1_knn_o_minority = get_precision_recall_f1score_for_minority_class(y_test_o, y_pred_knn_o)"
   ]
  },
  {
   "cell_type": "markdown",
   "id": "a46c6ebb",
   "metadata": {},
   "source": [
    "## Decision tree"
   ]
  },
  {
   "cell_type": "code",
   "execution_count": null,
   "id": "ba36cfa1",
   "metadata": {},
   "outputs": [],
   "source": [
    "# parameters tunning\n",
    "def set_up_decision_parameters(X_train,y_train,X_validation,y_validation):\n",
    "    dtc = DecisionTreeClassifier()\n",
    "\n",
    "    # Definisanje grida hiperparametara\n",
    "    param_grid = {\n",
    "        'criterion': ['gini', 'entropy'],\n",
    "        'max_depth': [None, 2, 5, 10],\n",
    "        'min_samples_split': [2, 5, 10],\n",
    "        'min_samples_leaf': [1, 2, 4]\n",
    "    }\n",
    "    \n",
    "    \n",
    "    grid_search = GridSearchCV(estimator=dtc, param_grid=param_grid, cv=5)\n",
    "\n",
    "    # Obuka modela na trening skupu\n",
    "    grid_search.fit(X_train, y_train)\n",
    "\n",
    "    print(\"Najbolji hiperparametri:\", grid_search.best_params_)\n",
    "\n",
    "    # Predviđanje na validacionom skupu\n",
    "    y_val_pred = grid_search.predict(X_validation)\n",
    "\n",
    "    print(\"Izveštaj o performansama:\")\n",
    "    print(accuracy_score(y_validation, y_val_pred))\n",
    "\n",
    "    return grid_search.best_params_\n",
    "\n",
    "\n",
    "def decision_tree(X_train, y_train, X_test, y_test,params):\n",
    "    dtc = DecisionTreeClassifier(max_depth=params['max_depth'],min_samples_split= params['min_samples_split'],\n",
    "                                 min_samples_leaf=params['min_samples_leaf'],criterion=params['criterion'])\n",
    "    \n",
    "    dtc.fit(X_train, y_train)\n",
    "    \n",
    "    y_pred = dtc.predict(X_test)\n",
    "    \n",
    "    accuracy = accuracy_score(y_test, y_pred)\n",
    "    print(\"Decision tree accuracy: \", accuracy)\n",
    "    return y_pred, accuracy"
   ]
  },
  {
   "cell_type": "code",
   "execution_count": null,
   "id": "2a120501",
   "metadata": {},
   "outputs": [],
   "source": [
    "best_params=set_up_decision_parameters(X_train_u,y_train_u,X_val_u, y_val_u)"
   ]
  },
  {
   "cell_type": "code",
   "execution_count": null,
   "id": "f8a3ada4",
   "metadata": {},
   "outputs": [],
   "source": [
    "y_pred_dt_u, acc_dt_u = decision_tree(X_train_u, y_train_u, X_test_u, y_test_u,best_params)\n",
    "print(\"\\nPrecision recall i f1 mera nad celim skupom: \")\n",
    "get_precision_recall_f1score(y_test_u, y_pred_dt_u)\n",
    "print(\"\\nPrecision recall i f1 mera nad manjinskoj klasi:\")\n",
    "precision_dt_u_minority, recall_dt_u_minority, f1_dt_u_minority = get_precision_recall_f1score_for_minority_class(y_test_u, y_pred_dt_u)"
   ]
  },
  {
   "cell_type": "code",
   "execution_count": null,
   "id": "9450658f",
   "metadata": {},
   "outputs": [],
   "source": [
    "best_params_over=set_up_decision_parameters(X_train_o,y_train_o,X_val_o, y_val_o)"
   ]
  },
  {
   "cell_type": "code",
   "execution_count": null,
   "id": "cdd2273c",
   "metadata": {},
   "outputs": [],
   "source": [
    "y_pred_dt_o, acc_dt_o = decision_tree(X_train_o, y_train_o, X_test_o, y_test_o,best_params_over)\n",
    "print(\"\\nPrecision recall i f1 mera nad celim skupom:\")\n",
    "get_precision_recall_f1score(y_test_o, y_pred_dt_o)\n",
    "print(\"\\nPrecision recall i f1 mera nad manjinskoj klasi:\")\n",
    "precision_dt_o_minority, recall_dt_o_minority, f1_dt_o_minority = get_precision_recall_f1score_for_minority_class(y_test_o, y_pred_dt_o)"
   ]
  },
  {
   "cell_type": "markdown",
   "id": "65b99f23",
   "metadata": {},
   "source": [
    "## Bagging "
   ]
  },
  {
   "cell_type": "code",
   "execution_count": null,
   "id": "3109061a",
   "metadata": {},
   "outputs": [],
   "source": [
    "# parameters tunning\n",
    "def set_up_bagging_parameters(X_train,y_train,X_validation,y_validation):\n",
    "    # Definisanje baznog estimatora\n",
    "    base_estimator = DecisionTreeClassifier()\n",
    "\n",
    "    # Definisanje modela\n",
    "    bagging = BaggingClassifier(base_estimator=base_estimator)\n",
    "\n",
    "    # Definisanje grida hiperparametara\n",
    "    param_grid = {\n",
    "        'n_estimators': [10, 50, 100],\n",
    "        'max_samples': [0.5, 1.0],\n",
    "        'max_features': [0.5, 1.0],\n",
    "        'bootstrap': [True, False],\n",
    "        'bootstrap_features': [True, False]\n",
    "    }\n",
    "    \n",
    "    \n",
    "    grid_search = GridSearchCV(estimator=bagging, param_grid=param_grid, cv=5)\n",
    "\n",
    "    # Obuka modela na trening skupu\n",
    "    grid_search.fit(X_train, y_train)\n",
    "\n",
    "    print(\"Najbolji hiperparametri:\", grid_search.best_params_)\n",
    "\n",
    "    # Predviđanje na validacionom skupu\n",
    "    y_val_pred = grid_search.predict(X_validation)\n",
    "\n",
    "    print(\"Izveštaj o performansama:\")\n",
    "    print(accuracy_score(y_validation, y_val_pred))\n",
    "\n",
    "    return grid_search.best_params_\n",
    "\n",
    "def bagging(X_train, y_train, X_test, y_test,params):\n",
    "    base_model = DecisionTreeClassifier()\n",
    "\n",
    "    bagging_model = BaggingClassifier(n_estimators=params['n_estimators'],max_samples=params['max_samples'],\n",
    "                                     max_features=params['max_features'],bootstrap=params['bootstrap'],\n",
    "                                     bootstrap_features=params['bootstrap_features'])\n",
    "\n",
    "    bagging_model.fit(X_train, y_train)\n",
    "    \n",
    "    y_pred = bagging_model.predict(X_test)\n",
    "\n",
    "    accuracy = bagging_model.score(X_test, y_test)\n",
    "    print(\"Bagging accuracy:\", accuracy)\n",
    "    return y_pred, accuracy"
   ]
  },
  {
   "cell_type": "code",
   "execution_count": null,
   "id": "04c43ec9",
   "metadata": {},
   "outputs": [],
   "source": [
    "best_params=set_up_bagging_parameters(X_train_u,y_train_u,X_val_u, y_val_u)"
   ]
  },
  {
   "cell_type": "code",
   "execution_count": null,
   "id": "1ab29a37",
   "metadata": {},
   "outputs": [],
   "source": [
    "y_pred_bagg_u, acc_bagg_u = bagging(X_train_u, y_train_u, X_test_u, y_test_u,best_params)\n",
    "print(\"\\nPrecision recall i f1 mera nad celim skupom: \")\n",
    "get_precision_recall_f1score(y_test_u, y_pred_bagg_u)\n",
    "print(\"\\nPrecision recall i f1 mera nad manjinskoj klasi:\")\n",
    "precision_bagg_u_minority, recall_bagg_u_minority, f1_bagg_u_minority = get_precision_recall_f1score_for_minority_class(y_test_u, y_pred_bagg_u)"
   ]
  },
  {
   "cell_type": "code",
   "execution_count": null,
   "id": "ac6d1277",
   "metadata": {},
   "outputs": [],
   "source": [
    "y_pred_bagg_o, acc_bagg_o = bagging(X_train_o, y_train_o, X_test_o, y_test_o,best_params)\n",
    "print(\"\\nPrecision recall i f1 mera nad celim skupom:\")\n",
    "get_precision_recall_f1score(y_test_o, y_pred_bagg_o)\n",
    "print(\"\\nPrecision recall i f1 mera nad manjinskoj klasi:\")\n",
    "precision_bagg_o_minority, recall_bagg_o_minority, f1_bagg_o_minority = get_precision_recall_f1score_for_minority_class(y_test_o, y_pred_bagg_o)"
   ]
  },
  {
   "cell_type": "markdown",
   "id": "9ef9a427",
   "metadata": {},
   "source": [
    "## XGBoost"
   ]
  },
  {
   "cell_type": "code",
   "execution_count": null,
   "id": "d834ae19",
   "metadata": {},
   "outputs": [],
   "source": [
    "# parameters tunning\n",
    "def set_up_xgboost_parameters(X_train,y_train,X_validation,y_validation):\n",
    "    \n",
    "    xgb_model = xgb.XGBClassifier()\n",
    "\n",
    "    # Definisanje grida hiperparametara\n",
    "    param_grid = {\n",
    "        'learning_rate': [0.1, 0.01],\n",
    "        'max_depth': [3, 5, 7],\n",
    "        'n_estimators': [50, 100, 200]\n",
    "    }\n",
    "    \n",
    "    grid_search = GridSearchCV(estimator=xgb_model, param_grid=param_grid, cv=5)\n",
    "\n",
    "    # Obuka modela na trening skupu\n",
    "    grid_search.fit(X_train, y_train)\n",
    "\n",
    "    print(\"Najbolji hiperparametri:\", grid_search.best_params_)\n",
    "\n",
    "    # Predviđanje na validacionom skupu\n",
    "    y_val_pred = grid_search.predict(X_validation)\n",
    "\n",
    "    print(\"Izveštaj o performansama:\")\n",
    "    print(accuracy_score(y_validation, y_val_pred))\n",
    "\n",
    "    return grid_search.best_params_\n",
    "\n",
    "\n",
    "def xgboost(X_train, y_train, X_test, y_test,params):\n",
    "    xgb_model = xgb.XGBClassifier(learning_rate=params['learning_rate'],max_depth=params['max_depth'],n_estimators=params['n_estimators'])\n",
    "\n",
    "    xgb_model.fit(X_train, y_train)\n",
    "    \n",
    "    y_pred = xgb_model.predict(X_test)\n",
    "\n",
    "    accuracy = xgb_model.score(X_test, y_test)\n",
    "    print(\"XGBoost accuracy:\", accuracy)\n",
    "    return y_pred, accuracy"
   ]
  },
  {
   "cell_type": "code",
   "execution_count": null,
   "id": "ffbaa4fc",
   "metadata": {},
   "outputs": [],
   "source": [
    "best_params=set_up_xgboost_parameters(X_train_u,y_train_u,X_val_u, y_val_u)"
   ]
  },
  {
   "cell_type": "code",
   "execution_count": null,
   "id": "f4b1a6e4",
   "metadata": {},
   "outputs": [],
   "source": [
    "y_pred_xgb_u, acc_xgb_u = xgboost(X_train_u, y_train_u, X_test_u, y_test_u,best_params)\n",
    "print(\"\\nPrecision recall i f1 mera nad celim skupom: \")\n",
    "get_precision_recall_f1score(y_test_u, y_pred_xgb_u)\n",
    "print(\"\\nPrecision recall i f1 mera nad manjinskoj klasi:\")\n",
    "precision_xgb_u_minority, recall_xgb_u_minority, f1_xgb_u_minority = get_precision_recall_f1score_for_minority_class(y_test_u, y_pred_xgb_u)"
   ]
  },
  {
   "cell_type": "code",
   "execution_count": null,
   "id": "918d1e4e",
   "metadata": {},
   "outputs": [],
   "source": [
    "y_pred_xgb_o, acc_xgb_o = xgboost(X_train_o, y_train_o, X_test_o, y_test_o,best_params)\n",
    "print(\"\\nPrecision recall i f1 mera nad celim skupom:\")\n",
    "get_precision_recall_f1score(y_test_o, y_pred_xgb_o)\n",
    "print(\"\\nPrecision recall i f1 mera nad manjinskoj klasi:\")\n",
    "precision_xgb_o_minority, recall_xgb_o_minority, f1_xgb_o_minority = get_precision_recall_f1score_for_minority_class(y_test_o, y_pred_xgb_o)"
   ]
  },
  {
   "cell_type": "markdown",
   "id": "26ec7f92",
   "metadata": {},
   "source": [
    "## Matrica konfuzije"
   ]
  },
  {
   "cell_type": "code",
   "execution_count": null,
   "id": "fd5ece73",
   "metadata": {},
   "outputs": [],
   "source": [
    "def plot_confusion_matrix(y_true, y_pred, algorithm):\n",
    "    cm = confusion_matrix(y_true, y_pred)\n",
    "    fig, ax = plt.subplots(figsize=(4, 4))\n",
    "    classes = ['successful', 'closed']\n",
    "    ax = sns.heatmap(cm, annot=True, cmap='Blues', fmt='g', xticklabels=classes, yticklabels=classes)\n",
    "    ax.set_xlabel('Predicted labels')\n",
    "    ax.set_ylabel('True labels')\n",
    "    ax.set_title(algorithm)\n",
    "    plt.show()"
   ]
  },
  {
   "cell_type": "code",
   "execution_count": null,
   "id": "38c1c899",
   "metadata": {},
   "outputs": [],
   "source": [
    "# undersampling\n",
    "plot_confusion_matrix(y_test_u, y_pred_rnd_forest_u, 'Random forest - undersampling')\n",
    "plot_confusion_matrix(y_test_u, y_pred_logistic_u, 'Logistic regression - undersampling')\n",
    "plot_confusion_matrix(y_test_u, y_pred_knn_u, 'KNN - undersampling')\n",
    "plot_confusion_matrix(y_test_u, y_pred_dt_u, 'Decision tree - undersampling')\n",
    "plot_confusion_matrix(y_test_u, y_pred_bagg_u, 'Bagging - undersampling')\n",
    "plot_confusion_matrix(y_test_u, y_pred_xgb_u, 'XGBoost - undersampling')"
   ]
  },
  {
   "cell_type": "code",
   "execution_count": null,
   "id": "81c4fd68",
   "metadata": {},
   "outputs": [],
   "source": [
    "# oversampling\n",
    "plot_confusion_matrix(y_test_o, y_pred_rnd_forest_o, 'Random forest - oversampling')\n",
    "plot_confusion_matrix(y_test_o, y_pred_logistic_o, 'Logistic regression - oversampling')\n",
    "plot_confusion_matrix(y_test_o, y_pred_knn_o, 'KNN - oversampling')\n",
    "plot_confusion_matrix(y_test_o, y_pred_dt_o, 'Decision tree - oversampling')\n",
    "plot_confusion_matrix(y_test_o, y_pred_bagg_o, 'Bagging - oversampling')\n",
    "plot_confusion_matrix(y_test_o, y_pred_xgb_o, 'XGBoost - oversampling')"
   ]
  },
  {
   "cell_type": "code",
   "execution_count": null,
   "id": "fb60a1a0",
   "metadata": {},
   "outputs": [],
   "source": [
    "def plot_algorithm_accuracies(accuracies, dataset_type):\n",
    "    algorithms = ['Rnd Forest', 'Logistic regr', 'KNN', 'Decision tree', 'Bagging', 'XGBoost']\n",
    "\n",
    "    fig, ax = plt.subplots(figsize=(8, 6))\n",
    "    ax.bar(algorithms, accuracies)\n",
    "\n",
    "    ax.set_xlabel('Algorithm')\n",
    "    ax.set_ylabel('Accuracy')\n",
    "    ax.set_title('Accuracy of different algorithms - ' + dataset_type)\n",
    "\n",
    "    fig.subplots_adjust(bottom=0.5)\n",
    "    plt.show()\n",
    "    \n",
    "    data = []\n",
    "    for i in range(len(algorithms)):\n",
    "        row = [algorithms[i], round(accuracies[i], 2)]\n",
    "        data.append(row)\n",
    "\n",
    "    headers = ['Algorithm', 'Accuracy']\n",
    "\n",
    "    print(tabulate(data, headers=headers))\n"
   ]
  },
  {
   "cell_type": "code",
   "execution_count": null,
   "id": "63480437",
   "metadata": {},
   "outputs": [],
   "source": [
    "accuracies_u = [acc_rnd_forest_u*100, acc_logistic_u*100, acc_knn_u*100, acc_dt_u*100, acc_bagg_u*100, acc_xgb_u*100]\n",
    "plot_algorithm_accuracies(accuracies_u, 'undersampling')"
   ]
  },
  {
   "cell_type": "code",
   "execution_count": null,
   "id": "1b50d7ac",
   "metadata": {},
   "outputs": [],
   "source": [
    "accuracies_o = [acc_rnd_forest_o*100, acc_logistic_o*100, acc_knn_o*100, acc_dt_o*100, acc_bagg_o*100, acc_xgb_o*100]\n",
    "plot_algorithm_accuracies(accuracies_o, 'oversampling')"
   ]
  },
  {
   "cell_type": "markdown",
   "id": "8defc9b3",
   "metadata": {},
   "source": [
    "## Graficki prikaz precision, recall and F1 score rezultata za manjinsku klasu"
   ]
  },
  {
   "cell_type": "code",
   "execution_count": null,
   "id": "8d76d010",
   "metadata": {},
   "outputs": [],
   "source": [
    "# undersampling\n",
    "algorithms = ['Rnd Forest', 'Logistic regr', 'KNN', 'Decision tree', 'Bagging', 'XGBoost']\n",
    "precision_scores = [ precision_rnd_forest_u_minority, \n",
    "                    precision_logistic_u_minority, \n",
    "                    precision_knn_u_minority, \n",
    "                    precision_dt_u_minority, \n",
    "                    precision_bagg_u_minority, \n",
    "                    precision_xgb_u_minority ]\n",
    "recall_scores = [ recall_rnd_forest_u_minority, \n",
    "                    recall_logistic_u_minority, \n",
    "                    recall_knn_u_minority, \n",
    "                    recall_dt_u_minority, \n",
    "                    recall_bagg_u_minority, \n",
    "                    recall_xgb_u_minority ]\n",
    "f1_scores = [ f1_rnd_forest_u_minority, \n",
    "                    f1_logistic_u_minority, \n",
    "                    f1_knn_u_minority, \n",
    "                    f1_dt_u_minority, \n",
    "                    f1_bagg_u_minority, \n",
    "                    f1_xgb_u_minority ]\n",
    "\n",
    "fig, ax = plt.subplots(figsize=(10,4))\n",
    "bar_width = 0.2\n",
    "x_pos = np.arange(len(algorithms))\n",
    "\n",
    "ax.bar(x_pos, precision_scores, width=bar_width, label='Precision')\n",
    "ax.bar(x_pos + bar_width, recall_scores, width=bar_width, label='Recall')\n",
    "ax.bar(x_pos + 2*bar_width, f1_scores, width=bar_width, label='F1-score')\n",
    "\n",
    "ax.set_xlabel('Algorithms')\n",
    "ax.set_ylabel('Score')\n",
    "ax.set_title('Precision, Recall, and F1-score - minority class - undersampling')\n",
    "\n",
    "ax.set_xticks(x_pos + bar_width)\n",
    "ax.set_xticklabels(algorithms)\n",
    "\n",
    "ax.legend()\n",
    "\n",
    "plt.show()\n"
   ]
  },
  {
   "cell_type": "code",
   "execution_count": null,
   "id": "9297dccd",
   "metadata": {},
   "outputs": [],
   "source": [
    "#oversampling\n",
    "precision_scores = [ precision_rnd_forest_o_minority, \n",
    "                    precision_logistic_o_minority, \n",
    "                    precision_knn_o_minority, \n",
    "                    precision_dt_o_minority, \n",
    "                    precision_bagg_o_minority, \n",
    "                    precision_xgb_o_minority ]\n",
    "recall_scores = [ recall_rnd_forest_o_minority, \n",
    "                    recall_logistic_o_minority, \n",
    "                    recall_knn_o_minority, \n",
    "                    recall_dt_o_minority, \n",
    "                    recall_bagg_o_minority, \n",
    "                    recall_xgb_o_minority ]\n",
    "f1_scores = [ f1_rnd_forest_o_minority, \n",
    "                    f1_logistic_o_minority, \n",
    "                    f1_knn_o_minority, \n",
    "                    f1_dt_o_minority, \n",
    "                    f1_bagg_o_minority, \n",
    "                    f1_xgb_o_minority ]\n",
    "\n",
    "fig, ax = plt.subplots(figsize=(10,4))\n",
    "bar_width = 0.2\n",
    "x_pos = np.arange(len(algorithms))\n",
    "\n",
    "ax.bar(x_pos, precision_scores, width=bar_width, label='Precision')\n",
    "ax.bar(x_pos + bar_width, recall_scores, width=bar_width, label='Recall')\n",
    "ax.bar(x_pos + 2*bar_width, f1_scores, width=bar_width, label='F1-score')\n",
    "\n",
    "ax.set_xlabel('Algorithms')\n",
    "ax.set_ylabel('Score')\n",
    "ax.set_title('Precision, Recall, and F1-score - minority class - oversampling')\n",
    "\n",
    "ax.set_xticks(x_pos + bar_width)\n",
    "ax.set_xticklabels(algorithms)\n",
    "\n",
    "ax.legend()\n",
    "\n",
    "plt.show()"
   ]
  },
  {
   "cell_type": "code",
   "execution_count": null,
   "id": "d3a911b5",
   "metadata": {},
   "outputs": [],
   "source": []
  }
 ],
 "metadata": {
  "kernelspec": {
   "display_name": "Python 3 (ipykernel)",
   "language": "python",
   "name": "python3"
  },
  "language_info": {
   "codemirror_mode": {
    "name": "ipython",
    "version": 3
   },
   "file_extension": ".py",
   "mimetype": "text/x-python",
   "name": "python",
   "nbconvert_exporter": "python",
   "pygments_lexer": "ipython3",
   "version": "3.9.2"
  }
 },
 "nbformat": 4,
 "nbformat_minor": 5
}
