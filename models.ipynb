{
 "cells": [
  {
   "cell_type": "markdown",
   "id": "94915194",
   "metadata": {},
   "source": [
    "# Algorithms"
   ]
  },
  {
   "cell_type": "code",
   "execution_count": 1,
   "id": "34d4f379",
   "metadata": {},
   "outputs": [],
   "source": [
    "import numpy as np\n",
    "from sklearn.ensemble import RandomForestClassifier\n",
    "from sklearn.metrics import accuracy_score\n",
    "from sklearn.metrics import precision_score, recall_score, f1_score\n",
    "from sklearn.linear_model import LinearRegression\n",
    "from sklearn.metrics import mean_squared_error\n",
    "from sklearn.neighbors import KNeighborsClassifier\n",
    "from sklearn.tree import DecisionTreeClassifier\n",
    "from sklearn import datasets\n",
    "from sklearn.model_selection import train_test_split\n",
    "import pandas as pd\n",
    "from sklearn.tree import DecisionTreeClassifier\n",
    "from sklearn.neighbors import KNeighborsClassifier\n",
    "from sklearn.linear_model import LogisticRegression\n",
    "from sklearn.ensemble import BaggingClassifier\n",
    "from sklearn.tree import DecisionTreeClassifier\n",
    "from sklearn.ensemble import BaggingClassifier\n",
    "import xgboost as xgb\n",
    "from sklearn.model_selection import GridSearchCV"
   ]
  },
  {
   "cell_type": "markdown",
   "id": "342796f7",
   "metadata": {},
   "source": [
    "### Ucitavanje pretprocesiranih podataka"
   ]
  },
  {
   "cell_type": "code",
   "execution_count": 2,
   "id": "b0d26330",
   "metadata": {},
   "outputs": [],
   "source": [
    "def dataset_partitioning(X_balanced, y_balanced):\n",
    "    X_train, X_test, y_train, y_test = train_test_split(X_balanced, y_balanced, test_size=0.111, random_state=42, stratify=y_balanced)\n",
    "    X_train, X_val, y_train, y_val = train_test_split(X_train, y_train, test_size=0.1, random_state=42, stratify=y_train)\n",
    "\n",
    "    print('Broj ciljnih vrednosti \\'closed\\' u trening skupu:', np.sum(y_train==0))\n",
    "    print('Broj ciljnih vrednosti \\'closed\\' u test skupu:', np.sum(y_test==0))\n",
    "    print('Broj ciljnih vrednosti \\'closed\\' u validacionom skupu:', np.sum(y_val==0))\n",
    "    return X_train, y_train, X_test, y_test, X_val, y_val"
   ]
  },
  {
   "cell_type": "code",
   "execution_count": 3,
   "id": "7dcb8eae",
   "metadata": {},
   "outputs": [],
   "source": [
    "X_oversampling = pd.read_csv('oversampling_x.csv')\n",
    "y_oversampling = pd.read_csv('oversampling_y.csv')\n",
    "y_oversampling = y_oversampling.values.reshape(-1)"
   ]
  },
  {
   "cell_type": "code",
   "execution_count": 4,
   "id": "3121dc2a",
   "metadata": {},
   "outputs": [
    {
     "name": "stdout",
     "output_type": "stream",
     "text": [
      "Broj ciljnih vrednosti 'closed' u trening skupu: 18591\n",
      "Broj ciljnih vrednosti 'closed' u test skupu: 2580\n",
      "Broj ciljnih vrednosti 'closed' u validacionom skupu: 2066\n"
     ]
    }
   ],
   "source": [
    "X_train_o, y_train_o, X_test_o, y_test_o, X_val_o, y_val_o = dataset_partitioning(X_oversampling, y_oversampling)"
   ]
  },
  {
   "cell_type": "code",
   "execution_count": 5,
   "id": "fd49f477",
   "metadata": {},
   "outputs": [],
   "source": [
    "X_undersampling = pd.read_csv('undersampling_x.csv')\n",
    "y_undersampling = pd.read_csv('undersampling_y.csv')\n",
    "y_oversampling = y_oversampling.values.reshape(-1)"
   ]
  },
  {
   "cell_type": "code",
   "execution_count": 6,
   "id": "cb20738a",
   "metadata": {},
   "outputs": [
    {
     "data": {
      "text/html": [
       "<div>\n",
       "<style scoped>\n",
       "    .dataframe tbody tr th:only-of-type {\n",
       "        vertical-align: middle;\n",
       "    }\n",
       "\n",
       "    .dataframe tbody tr th {\n",
       "        vertical-align: top;\n",
       "    }\n",
       "\n",
       "    .dataframe thead th {\n",
       "        text-align: right;\n",
       "    }\n",
       "</style>\n",
       "<table border=\"1\" class=\"dataframe\">\n",
       "  <thead>\n",
       "    <tr style=\"text-align: right;\">\n",
       "      <th></th>\n",
       "      <th>status</th>\n",
       "    </tr>\n",
       "  </thead>\n",
       "  <tbody>\n",
       "    <tr>\n",
       "      <th>0</th>\n",
       "      <td>0</td>\n",
       "    </tr>\n",
       "    <tr>\n",
       "      <th>1</th>\n",
       "      <td>0</td>\n",
       "    </tr>\n",
       "    <tr>\n",
       "      <th>2</th>\n",
       "      <td>0</td>\n",
       "    </tr>\n",
       "    <tr>\n",
       "      <th>3</th>\n",
       "      <td>0</td>\n",
       "    </tr>\n",
       "    <tr>\n",
       "      <th>4</th>\n",
       "      <td>0</td>\n",
       "    </tr>\n",
       "    <tr>\n",
       "      <th>...</th>\n",
       "      <td>...</td>\n",
       "    </tr>\n",
       "    <tr>\n",
       "      <th>1103</th>\n",
       "      <td>1</td>\n",
       "    </tr>\n",
       "    <tr>\n",
       "      <th>1104</th>\n",
       "      <td>1</td>\n",
       "    </tr>\n",
       "    <tr>\n",
       "      <th>1105</th>\n",
       "      <td>1</td>\n",
       "    </tr>\n",
       "    <tr>\n",
       "      <th>1106</th>\n",
       "      <td>1</td>\n",
       "    </tr>\n",
       "    <tr>\n",
       "      <th>1107</th>\n",
       "      <td>1</td>\n",
       "    </tr>\n",
       "  </tbody>\n",
       "</table>\n",
       "<p>1108 rows × 1 columns</p>\n",
       "</div>"
      ],
      "text/plain": [
       "      status\n",
       "0          0\n",
       "1          0\n",
       "2          0\n",
       "3          0\n",
       "4          0\n",
       "...      ...\n",
       "1103       1\n",
       "1104       1\n",
       "1105       1\n",
       "1106       1\n",
       "1107       1\n",
       "\n",
       "[1108 rows x 1 columns]"
      ]
     },
     "execution_count": 6,
     "metadata": {},
     "output_type": "execute_result"
    }
   ],
   "source": []
  },
  {
   "cell_type": "code",
   "execution_count": 8,
   "id": "d1a7727c",
   "metadata": {},
   "outputs": [
    {
     "name": "stdout",
     "output_type": "stream",
     "text": [
      "Broj ciljnih vrednosti 'closed' u trening skupu: status    443\n",
      "dtype: int64\n",
      "Broj ciljnih vrednosti 'closed' u test skupu: status    62\n",
      "dtype: int64\n",
      "Broj ciljnih vrednosti 'closed' u validacionom skupu: status    49\n",
      "dtype: int64\n"
     ]
    }
   ],
   "source": [
    "X_train_u, y_train_u, X_test_u, y_test_u, X_val_u, y_val_u = dataset_partitioning(X_undersampling, y_undersampling)"
   ]
  },
  {
   "cell_type": "markdown",
   "id": "f81084b1",
   "metadata": {},
   "source": [
    "## Precision, recall i F1 mera: za manjinsku klasu i ceo dataset"
   ]
  },
  {
   "cell_type": "code",
   "execution_count": 9,
   "id": "af098dca",
   "metadata": {},
   "outputs": [],
   "source": [
    "def get_precision_recall_f1score_for_minority_class(y_test, y_test_pred):\n",
    "    # Izvlacenje **manjiske klase**\n",
    "    y_test1 = np.array(y_test)\n",
    "    y_test_pred1 = np.array(y_test_pred)\n",
    "\n",
    "    # Izdvajanje indeksa gde se nalaze vrednosti 0 u y_test\n",
    "    idx = np.where(y_test1 == 0)[0]\n",
    "\n",
    "    # Izdvajanje samo vrednosti 0 iz y_test i y_test_pred pomocu indeksa\n",
    "    y_test1 = y_test1[idx]\n",
    "    y_test_pred1 = y_test_pred1[idx]\n",
    "\n",
    "    precision = precision_score(y_test1, y_test_pred1, pos_label=0)\n",
    "    recall = recall_score(y_test1, y_test_pred1, pos_label=0)\n",
    "    f1 = f1_score(y_test1, y_test_pred1, pos_label=0)\n",
    "\n",
    "    print(\"Precision: \", precision)\n",
    "    print(\"Recall: \", recall)\n",
    "    print(\"F1-score: \", f1)"
   ]
  },
  {
   "cell_type": "code",
   "execution_count": 10,
   "id": "d2769b9b",
   "metadata": {},
   "outputs": [],
   "source": [
    "def get_precision_recall_f1score(y_test, y_test_pred):\n",
    "    precision = precision_score(y_test, y_test_pred)\n",
    "    recall = recall_score(y_test, y_test_pred)\n",
    "    f1 = f1_score(y_test, y_test_pred)\n",
    "\n",
    "    print(\"Precision: \", precision)\n",
    "    print(\"Recall: \", recall)\n",
    "    print(\"F1-score: \", f1)"
   ]
  },
  {
   "cell_type": "markdown",
   "id": "4fee5b2c",
   "metadata": {},
   "source": [
    "## Random Forest "
   ]
  },
  {
   "cell_type": "code",
   "execution_count": 11,
   "id": "4b326364",
   "metadata": {},
   "outputs": [],
   "source": [
    "# Kreiraj instancu Random Forest klasifikatora sa 10 stabala\n",
    "def random_forest(X_train, y_train, X_test, y_test, n_estimator): \n",
    "    rfc = RandomForestClassifier(n_estimators=n_estimator)\n",
    "\n",
    "    # Obuči model na X_train i y_train podacima\n",
    "    rfc.fit(X_train, y_train)\n",
    "\n",
    "    # Predvidi klase za X_train i X_test podatke\n",
    "    y_train_pred = rfc.predict(X_train)\n",
    "    y_test_pred = rfc.predict(X_test)\n",
    "\n",
    "    # Izračunaj tačnost modela\n",
    "    train_accuracy = accuracy_score(y_train, y_train_pred)\n",
    "    test_accuracy = accuracy_score(y_test, y_test_pred)\n",
    "\n",
    "    print(\"Train Accuracy:\", train_accuracy)\n",
    "    print(\"Test Accuracy:\", test_accuracy)\n",
    "#     print(y_test_pred)\n",
    "    return y_test_pred"
   ]
  },
  {
   "cell_type": "code",
   "execution_count": 12,
   "id": "f7b511c0",
   "metadata": {},
   "outputs": [
    {
     "name": "stdout",
     "output_type": "stream",
     "text": [
      "Train Accuracy: 0.9571106094808126\n",
      "Test Accuracy: 0.7723577235772358\n",
      "\n",
      "*** Precision recall i f1 mera nad celim skupom ***\n",
      "Precision:  0.7894736842105263\n",
      "Recall:  0.7377049180327869\n",
      "F1-score:  0.7627118644067797\n",
      "\n",
      "*** Precision recall i f1 mera nad manjinskoj klasi ***\n",
      "Precision:  1.0\n",
      "Recall:  0.8064516129032258\n",
      "F1-score:  0.8928571428571428\n"
     ]
    },
    {
     "name": "stderr",
     "output_type": "stream",
     "text": [
      "/var/folders/d9/mc0dr5pd6dj0wry199c_t3qc0000gp/T/ipykernel_57535/1355356566.py:6: DataConversionWarning: A column-vector y was passed when a 1d array was expected. Please change the shape of y to (n_samples,), for example using ravel().\n",
      "  rfc.fit(X_train, y_train)\n"
     ]
    }
   ],
   "source": [
    "# Random Forest\n",
    "y_rnd_forest_u_pred = random_forest(X_train_u, y_train_u, X_test_u, y_test_u, 10)\n",
    "print(\"\\n*** Precision recall i f1 mera nad celim skupom ***\")\n",
    "get_precision_recall_f1score(y_test_u, y_rnd_forest_u_pred)\n",
    "print(\"\\n*** Precision recall i f1 mera nad manjinskoj klasi ***\")\n",
    "get_precision_recall_f1score_for_minority_class(y_test_u, y_rnd_forest_u_pred)"
   ]
  },
  {
   "cell_type": "markdown",
   "id": "4c34e133",
   "metadata": {},
   "source": [
    "## Linearna regresija (TODO: nije na spisku - obrisati?)"
   ]
  },
  {
   "cell_type": "code",
   "execution_count": 13,
   "id": "46fdb5a0",
   "metadata": {},
   "outputs": [],
   "source": [
    "def linear_regression(X_train, y_train, X_test, y_test):\n",
    "    reg = LinearRegression()\n",
    "\n",
    "    # Obuči model na trening podacima\n",
    "    reg.fit(X_train, y_train)\n",
    "\n",
    "    # Predvidi vrednosti za test podatke\n",
    "    y_pred = reg.predict(X_test)\n",
    "\n",
    "    # Izračunaj srednju kvadratnu grešku\n",
    "    mse = mean_squared_error(y_test, y_pred)\n",
    "\n",
    "    # Prikaz rezultata\n",
    "#     print(\"Koeficijenti regresije:\", reg.coef_)\n",
    "#     print(\"Intercept:\", reg.intercept_)\n",
    "    print(\"Linear regression accuracy:\", mse)"
   ]
  },
  {
   "cell_type": "code",
   "execution_count": 14,
   "id": "b5c9d208",
   "metadata": {},
   "outputs": [
    {
     "name": "stdout",
     "output_type": "stream",
     "text": [
      "Linear regression accuracy: 0.17895286652193892\n"
     ]
    }
   ],
   "source": [
    "linear_regression(X_train_u, y_train_u, X_test_u, y_test_u)"
   ]
  },
  {
   "cell_type": "markdown",
   "id": "21abd190",
   "metadata": {},
   "source": [
    "## Logisticka regresija"
   ]
  },
  {
   "cell_type": "code",
   "execution_count": 15,
   "id": "603eedcd",
   "metadata": {},
   "outputs": [],
   "source": [
    "def logistic_regression(X_train, y_train, X_test, y_test):\n",
    "    # kreiranje objekta modela logističke regresije\n",
    "    lr_model = LogisticRegression()\n",
    "\n",
    "    # učenje modela na trening skupu podataka\n",
    "    lr_model.fit(X_train, y_train)\n",
    "\n",
    "    # predviđanje izlaza za test skup podataka\n",
    "    y_pred = lr_model.predict(X_test)\n",
    "\n",
    "    # izračunavanje tačnosti modela\n",
    "    accuracy = lr_model.score(X_test, y_test)\n",
    "\n",
    "    # ispisivanje tačnosti\n",
    "    print(\"Logistic regression accuracy:\", accuracy)"
   ]
  },
  {
   "cell_type": "code",
   "execution_count": 16,
   "id": "f71544ae",
   "metadata": {},
   "outputs": [
    {
     "name": "stdout",
     "output_type": "stream",
     "text": [
      "Logistic regression accuracy: 0.36585365853658536\n"
     ]
    },
    {
     "name": "stderr",
     "output_type": "stream",
     "text": [
      "/Users/sanja/miniforge3/lib/python3.9/site-packages/sklearn/utils/validation.py:1143: DataConversionWarning: A column-vector y was passed when a 1d array was expected. Please change the shape of y to (n_samples, ), for example using ravel().\n",
      "  y = column_or_1d(y, warn=True)\n"
     ]
    }
   ],
   "source": [
    "logistic_regression(X_train_u, y_train_u, X_test_u, y_test_u)"
   ]
  },
  {
   "cell_type": "markdown",
   "id": "7b6a7fb5",
   "metadata": {},
   "source": [
    "## K-Nearest Neighbour"
   ]
  },
  {
   "cell_type": "code",
   "execution_count": 17,
   "id": "33037b07",
   "metadata": {},
   "outputs": [],
   "source": [
    "def knn(X_train, y_train, X_test, y_test, n_neighbors=5):\n",
    "    # Inicijalizacija klasifikatora k-najbližih suseda\n",
    "    knn_model = KNeighborsClassifier(n_neighbors=n_neighbors)\n",
    "    \n",
    "    # Treniranje klasifikatora k-najbližih suseda na trening skupu podataka\n",
    "    knn_model.fit(X_train, y_train)\n",
    "    \n",
    "    # Predviđanje ciljnih vrednosti na test skupu podataka\n",
    "    y_pred = knn_model.predict(X_test)\n",
    "    \n",
    "    # Izračunavanje tačnosti predikcije\n",
    "    accuracy = accuracy_score(y_test, y_pred)\n",
    "    print(\"KNN accuracy: \", accuracy)"
   ]
  },
  {
   "cell_type": "code",
   "execution_count": 18,
   "id": "bcf52522",
   "metadata": {},
   "outputs": [
    {
     "name": "stderr",
     "output_type": "stream",
     "text": [
      "/Users/sanja/miniforge3/lib/python3.9/site-packages/sklearn/neighbors/_classification.py:215: DataConversionWarning: A column-vector y was passed when a 1d array was expected. Please change the shape of y to (n_samples,), for example using ravel().\n",
      "  return self._fit(X, y)\n"
     ]
    },
    {
     "name": "stdout",
     "output_type": "stream",
     "text": [
      "KNN accuracy:  0.6747967479674797\n",
      "KNN accuracy:  0.6747967479674797\n"
     ]
    },
    {
     "name": "stderr",
     "output_type": "stream",
     "text": [
      "/Users/sanja/miniforge3/lib/python3.9/site-packages/sklearn/neighbors/_classification.py:215: DataConversionWarning: A column-vector y was passed when a 1d array was expected. Please change the shape of y to (n_samples,), for example using ravel().\n",
      "  return self._fit(X, y)\n"
     ]
    }
   ],
   "source": [
    "knn(X_train_u, y_train_u, X_test_u, y_test_u, 5)\n",
    "knn(X_train_u, y_train_u, X_test_u, y_test_u, 3) "
   ]
  },
  {
   "cell_type": "markdown",
   "id": "a46c6ebb",
   "metadata": {},
   "source": [
    "## Decision tree"
   ]
  },
  {
   "cell_type": "code",
   "execution_count": 19,
   "id": "ba36cfa1",
   "metadata": {},
   "outputs": [],
   "source": [
    "def decision_tree(X_train, y_train, X_test, y_test, max_depth=None, min_samples_split=2):\n",
    "    # Inicijalizacija klasifikatora odlučivanja\n",
    "    dtc = DecisionTreeClassifier(max_depth=max_depth, min_samples_split=min_samples_split)\n",
    "    \n",
    "    # Treniranje klasifikatora odlučivanja na trening skupu podataka\n",
    "    dtc.fit(X_train, y_train)\n",
    "    \n",
    "    # Predviđanje ciljnih vrednosti na test skupu podataka\n",
    "    y_pred = dtc.predict(X_test)\n",
    "    \n",
    "    # Izračunavanje tačnosti predikcije\n",
    "    accuracy = accuracy_score(y_test, y_pred)\n",
    "    print(\"Decision tree accuracy: \", accuracy)"
   ]
  },
  {
   "cell_type": "code",
   "execution_count": 20,
   "id": "a1cb7fbe",
   "metadata": {},
   "outputs": [
    {
     "name": "stdout",
     "output_type": "stream",
     "text": [
      "Decision tree accuracy:  0.7317073170731707\n"
     ]
    }
   ],
   "source": [
    "decision_tree(X_train_u, y_train_u, X_test_u, y_test_u, 1, 5)"
   ]
  },
  {
   "cell_type": "markdown",
   "id": "4534eb97",
   "metadata": {},
   "source": [
    "## Bagging "
   ]
  },
  {
   "cell_type": "code",
   "execution_count": 21,
   "id": "7a9554f6",
   "metadata": {},
   "outputs": [],
   "source": [
    "def bagging(X_train, y_train, X_test, y_test):\n",
    "    # kreiranje objekta baznog modela - odlučivanje drveta (Decision Tree)\n",
    "    base_model = DecisionTreeClassifier()\n",
    "\n",
    "    # kreiranje objekta modela Bagging\n",
    "    bagging_model = BaggingClassifier(estimator=base_model, n_estimators=10, random_state=42)\n",
    "\n",
    "    # treniranje modela\n",
    "    bagging_model.fit(X_train, y_train)\n",
    "\n",
    "    # evaluacija modela\n",
    "    accuracy = bagging_model.score(X_test, y_test)\n",
    "    print(\"Bagging accuracy:\", accuracy)"
   ]
  },
  {
   "cell_type": "code",
   "execution_count": 22,
   "id": "a498f287",
   "metadata": {},
   "outputs": [
    {
     "name": "stdout",
     "output_type": "stream",
     "text": [
      "Bagging accuracy: 0.7967479674796748\n"
     ]
    },
    {
     "name": "stderr",
     "output_type": "stream",
     "text": [
      "/Users/sanja/miniforge3/lib/python3.9/site-packages/sklearn/ensemble/_bagging.py:802: DataConversionWarning: A column-vector y was passed when a 1d array was expected. Please change the shape of y to (n_samples, ), for example using ravel().\n",
      "  y = column_or_1d(y, warn=True)\n"
     ]
    }
   ],
   "source": [
    "bagging(X_train_u, y_train_u, X_test_u, y_test_u)"
   ]
  },
  {
   "cell_type": "markdown",
   "id": "8b4e60b0",
   "metadata": {},
   "source": [
    "## XGBoost"
   ]
  },
  {
   "cell_type": "code",
   "execution_count": 23,
   "id": "72a8a96e",
   "metadata": {},
   "outputs": [],
   "source": [
    "def xgboost(X_train, y_train, X_test, y_test):\n",
    "    # kreiranje objekta modela XGBoost\n",
    "    xgb_model = xgb.XGBClassifier()\n",
    "\n",
    "    # treniranje modela\n",
    "    xgb_model.fit(X_train, y_train)\n",
    "\n",
    "    # evaluacija modela\n",
    "    accuracy = xgb_model.score(X_test, y_test)\n",
    "    print(\"XGBoost accuracy:\", accuracy)\n",
    "    return xgb_model"
   ]
  },
  {
   "cell_type": "code",
   "execution_count": 24,
   "id": "dda7c044",
   "metadata": {},
   "outputs": [],
   "source": [
    "def optimize_hyperparameters(model, X_train, y_train, X_test, y_test):\n",
    "    # definisanje mreže hiperparametara koje želimo da isprobamo\n",
    "    param_grid = {'max_depth': [3, 4, 5],\n",
    "                  'learning_rate': [0.1, 0.01, 0.001],\n",
    "                  'n_estimators': [50, 100, 200]}\n",
    "#                   'subsample': [0.6, 0.8, 1.0],\n",
    "#                   'colsample_bytree': [0.6, 0.8, 1.0]}\n",
    "\n",
    "    # kreiranje objekta GridSearchCV\n",
    "    grid_search = GridSearchCV(xgb_model, param_grid=param_grid, cv=5)\n",
    "\n",
    "    # treniranje modela sa GridSearchCV objektom\n",
    "    grid_search.fit(X_train, y_train)\n",
    "\n",
    "    # evaluacija modela\n",
    "    accuracy = grid_search.score(X_test, y_test)\n",
    "    print('Optimizing hyperparameters:', accuracy)"
   ]
  },
  {
   "cell_type": "code",
   "execution_count": 25,
   "id": "3d8ce59f",
   "metadata": {},
   "outputs": [
    {
     "name": "stdout",
     "output_type": "stream",
     "text": [
      "XGBoost accuracy: 0.8048780487804879\n"
     ]
    }
   ],
   "source": [
    "xgb_model = xgboost(X_train_u, y_train_u, X_test_u, y_test_u)"
   ]
  },
  {
   "cell_type": "code",
   "execution_count": 26,
   "id": "a93ec65b",
   "metadata": {},
   "outputs": [],
   "source": [
    "# optimize_hyperparameters(xgb_model, X_train_u, y_train_u, X_test_u, y_test_u)"
   ]
  },
  {
   "cell_type": "code",
   "execution_count": null,
   "id": "53dbdc72",
   "metadata": {},
   "outputs": [],
   "source": []
  }
 ],
 "metadata": {
  "kernelspec": {
   "display_name": "Python 3 (ipykernel)",
   "language": "python",
   "name": "python3"
  },
  "language_info": {
   "codemirror_mode": {
    "name": "ipython",
    "version": 3
   },
   "file_extension": ".py",
   "mimetype": "text/x-python",
   "name": "python",
   "nbconvert_exporter": "python",
   "pygments_lexer": "ipython3",
   "version": "3.9.2"
  }
 },
 "nbformat": 4,
 "nbformat_minor": 5
}
